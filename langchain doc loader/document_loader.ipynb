{
 "cells": [
  {
   "cell_type": "code",
   "execution_count": 21,
   "id": "9508e2c3-3254-46bb-a8c8-49020d2f9c5a",
   "metadata": {},
   "outputs": [
    {
     "name": "stdout",
     "output_type": "stream",
     "text": [
      "Requirement already satisfied: langchain-community==0.2.1 in /home/jupyterlab/.local/lib/python3.12/site-packages (0.2.1)\n",
      "Requirement already satisfied: PyYAML>=5.3 in /opt/conda/lib/python3.12/site-packages (from langchain-community==0.2.1) (6.0.2)\n",
      "Requirement already satisfied: SQLAlchemy<3,>=1.4 in /opt/conda/lib/python3.12/site-packages (from langchain-community==0.2.1) (2.0.37)\n",
      "Requirement already satisfied: aiohttp<4.0.0,>=3.8.3 in /opt/conda/lib/python3.12/site-packages (from langchain-community==0.2.1) (3.11.18)\n",
      "Requirement already satisfied: dataclasses-json<0.7,>=0.5.7 in /home/jupyterlab/.local/lib/python3.12/site-packages (from langchain-community==0.2.1) (0.6.7)\n",
      "Requirement already satisfied: langchain<0.3.0,>=0.2.0 in /home/jupyterlab/.local/lib/python3.12/site-packages (from langchain-community==0.2.1) (0.2.17)\n",
      "Requirement already satisfied: langchain-core<0.3.0,>=0.2.0 in /home/jupyterlab/.local/lib/python3.12/site-packages (from langchain-community==0.2.1) (0.2.43)\n",
      "Requirement already satisfied: langsmith<0.2.0,>=0.1.0 in /home/jupyterlab/.local/lib/python3.12/site-packages (from langchain-community==0.2.1) (0.1.147)\n",
      "Requirement already satisfied: numpy<2,>=1 in /home/jupyterlab/.local/lib/python3.12/site-packages (from langchain-community==0.2.1) (1.26.4)\n",
      "Requirement already satisfied: requests<3,>=2 in /opt/conda/lib/python3.12/site-packages (from langchain-community==0.2.1) (2.32.3)\n",
      "Requirement already satisfied: tenacity<9.0.0,>=8.1.0 in /home/jupyterlab/.local/lib/python3.12/site-packages (from langchain-community==0.2.1) (8.5.0)\n",
      "Requirement already satisfied: aiohappyeyeballs>=2.3.0 in /opt/conda/lib/python3.12/site-packages (from aiohttp<4.0.0,>=3.8.3->langchain-community==0.2.1) (2.6.1)\n",
      "Requirement already satisfied: aiosignal>=1.1.2 in /opt/conda/lib/python3.12/site-packages (from aiohttp<4.0.0,>=3.8.3->langchain-community==0.2.1) (1.3.2)\n",
      "Requirement already satisfied: attrs>=17.3.0 in /opt/conda/lib/python3.12/site-packages (from aiohttp<4.0.0,>=3.8.3->langchain-community==0.2.1) (25.1.0)\n",
      "Requirement already satisfied: frozenlist>=1.1.1 in /opt/conda/lib/python3.12/site-packages (from aiohttp<4.0.0,>=3.8.3->langchain-community==0.2.1) (1.6.0)\n",
      "Requirement already satisfied: multidict<7.0,>=4.5 in /opt/conda/lib/python3.12/site-packages (from aiohttp<4.0.0,>=3.8.3->langchain-community==0.2.1) (6.4.3)\n",
      "Requirement already satisfied: propcache>=0.2.0 in /opt/conda/lib/python3.12/site-packages (from aiohttp<4.0.0,>=3.8.3->langchain-community==0.2.1) (0.3.1)\n",
      "Requirement already satisfied: yarl<2.0,>=1.17.0 in /opt/conda/lib/python3.12/site-packages (from aiohttp<4.0.0,>=3.8.3->langchain-community==0.2.1) (1.20.0)\n",
      "Requirement already satisfied: marshmallow<4.0.0,>=3.18.0 in /home/jupyterlab/.local/lib/python3.12/site-packages (from dataclasses-json<0.7,>=0.5.7->langchain-community==0.2.1) (3.26.1)\n",
      "Requirement already satisfied: typing-inspect<1,>=0.4.0 in /home/jupyterlab/.local/lib/python3.12/site-packages (from dataclasses-json<0.7,>=0.5.7->langchain-community==0.2.1) (0.9.0)\n",
      "Requirement already satisfied: langchain-text-splitters<0.3.0,>=0.2.0 in /home/jupyterlab/.local/lib/python3.12/site-packages (from langchain<0.3.0,>=0.2.0->langchain-community==0.2.1) (0.2.4)\n",
      "Requirement already satisfied: pydantic<3,>=1 in /home/jupyterlab/.local/lib/python3.12/site-packages (from langchain<0.3.0,>=0.2.0->langchain-community==0.2.1) (2.11.7)\n",
      "Requirement already satisfied: jsonpatch<2.0,>=1.33 in /opt/conda/lib/python3.12/site-packages (from langchain-core<0.3.0,>=0.2.0->langchain-community==0.2.1) (1.33)\n",
      "Requirement already satisfied: packaging<25,>=23.2 in /opt/conda/lib/python3.12/site-packages (from langchain-core<0.3.0,>=0.2.0->langchain-community==0.2.1) (24.2)\n",
      "Requirement already satisfied: typing-extensions>=4.7 in /opt/conda/lib/python3.12/site-packages (from langchain-core<0.3.0,>=0.2.0->langchain-community==0.2.1) (4.12.2)\n",
      "Requirement already satisfied: httpx<1,>=0.23.0 in /opt/conda/lib/python3.12/site-packages (from langsmith<0.2.0,>=0.1.0->langchain-community==0.2.1) (0.28.1)\n",
      "Requirement already satisfied: orjson<4.0.0,>=3.9.14 in /home/jupyterlab/.local/lib/python3.12/site-packages (from langsmith<0.2.0,>=0.1.0->langchain-community==0.2.1) (3.11.3)\n",
      "Requirement already satisfied: requests-toolbelt<2.0.0,>=1.0.0 in /home/jupyterlab/.local/lib/python3.12/site-packages (from langsmith<0.2.0,>=0.1.0->langchain-community==0.2.1) (1.0.0)\n",
      "Requirement already satisfied: charset_normalizer<4,>=2 in /opt/conda/lib/python3.12/site-packages (from requests<3,>=2->langchain-community==0.2.1) (3.4.1)\n",
      "Requirement already satisfied: idna<4,>=2.5 in /opt/conda/lib/python3.12/site-packages (from requests<3,>=2->langchain-community==0.2.1) (3.10)\n",
      "Requirement already satisfied: urllib3<3,>=1.21.1 in /opt/conda/lib/python3.12/site-packages (from requests<3,>=2->langchain-community==0.2.1) (2.3.0)\n",
      "Requirement already satisfied: certifi>=2017.4.17 in /opt/conda/lib/python3.12/site-packages (from requests<3,>=2->langchain-community==0.2.1) (2024.12.14)\n",
      "Requirement already satisfied: greenlet!=0.4.17 in /opt/conda/lib/python3.12/site-packages (from SQLAlchemy<3,>=1.4->langchain-community==0.2.1) (3.1.1)\n",
      "Requirement already satisfied: anyio in /opt/conda/lib/python3.12/site-packages (from httpx<1,>=0.23.0->langsmith<0.2.0,>=0.1.0->langchain-community==0.2.1) (4.8.0)\n",
      "Requirement already satisfied: httpcore==1.* in /home/jupyterlab/.local/lib/python3.12/site-packages (from httpx<1,>=0.23.0->langsmith<0.2.0,>=0.1.0->langchain-community==0.2.1) (1.0.9)\n",
      "Requirement already satisfied: h11>=0.16 in /home/jupyterlab/.local/lib/python3.12/site-packages (from httpcore==1.*->httpx<1,>=0.23.0->langsmith<0.2.0,>=0.1.0->langchain-community==0.2.1) (0.16.0)\n",
      "Requirement already satisfied: jsonpointer>=1.9 in /opt/conda/lib/python3.12/site-packages (from jsonpatch<2.0,>=1.33->langchain-core<0.3.0,>=0.2.0->langchain-community==0.2.1) (3.0.0)\n",
      "Requirement already satisfied: annotated-types>=0.6.0 in /opt/conda/lib/python3.12/site-packages (from pydantic<3,>=1->langchain<0.3.0,>=0.2.0->langchain-community==0.2.1) (0.7.0)\n",
      "Requirement already satisfied: pydantic-core==2.33.2 in /home/jupyterlab/.local/lib/python3.12/site-packages (from pydantic<3,>=1->langchain<0.3.0,>=0.2.0->langchain-community==0.2.1) (2.33.2)\n",
      "Requirement already satisfied: typing-inspection>=0.4.0 in /home/jupyterlab/.local/lib/python3.12/site-packages (from pydantic<3,>=1->langchain<0.3.0,>=0.2.0->langchain-community==0.2.1) (0.4.1)\n",
      "Requirement already satisfied: mypy-extensions>=0.3.0 in /home/jupyterlab/.local/lib/python3.12/site-packages (from typing-inspect<1,>=0.4.0->dataclasses-json<0.7,>=0.5.7->langchain-community==0.2.1) (1.1.0)\n",
      "Requirement already satisfied: sniffio>=1.1 in /opt/conda/lib/python3.12/site-packages (from anyio->httpx<1,>=0.23.0->langsmith<0.2.0,>=0.1.0->langchain-community==0.2.1) (1.3.1)\n",
      "Requirement already satisfied: pypdf==4.2.0 in /home/jupyterlab/.local/lib/python3.12/site-packages (4.2.0)\n",
      "Requirement already satisfied: PyMuPDF==1.24.5 in /home/jupyterlab/.local/lib/python3.12/site-packages (1.24.5)\n",
      "Requirement already satisfied: PyMuPDFb==1.24.3 in /home/jupyterlab/.local/lib/python3.12/site-packages (from PyMuPDF==1.24.5) (1.24.3)\n",
      "Requirement already satisfied: unstructured==0.14.8 in /home/jupyterlab/.local/lib/python3.12/site-packages (0.14.8)\n",
      "Requirement already satisfied: chardet in /home/jupyterlab/.local/lib/python3.12/site-packages (from unstructured==0.14.8) (5.2.0)\n",
      "Requirement already satisfied: filetype in /home/jupyterlab/.local/lib/python3.12/site-packages (from unstructured==0.14.8) (1.2.0)\n",
      "Requirement already satisfied: python-magic in /home/jupyterlab/.local/lib/python3.12/site-packages (from unstructured==0.14.8) (0.4.27)\n",
      "Requirement already satisfied: lxml in /home/jupyterlab/.local/lib/python3.12/site-packages (from unstructured==0.14.8) (6.0.1)\n",
      "Requirement already satisfied: nltk in /home/jupyterlab/.local/lib/python3.12/site-packages (from unstructured==0.14.8) (3.8)\n",
      "Requirement already satisfied: tabulate in /home/jupyterlab/.local/lib/python3.12/site-packages (from unstructured==0.14.8) (0.9.0)\n",
      "Requirement already satisfied: requests in /opt/conda/lib/python3.12/site-packages (from unstructured==0.14.8) (2.32.3)\n",
      "Requirement already satisfied: beautifulsoup4 in /opt/conda/lib/python3.12/site-packages (from unstructured==0.14.8) (4.12.3)\n",
      "Requirement already satisfied: emoji in /home/jupyterlab/.local/lib/python3.12/site-packages (from unstructured==0.14.8) (2.14.1)\n",
      "Requirement already satisfied: dataclasses-json in /home/jupyterlab/.local/lib/python3.12/site-packages (from unstructured==0.14.8) (0.6.7)\n",
      "Requirement already satisfied: python-iso639 in /home/jupyterlab/.local/lib/python3.12/site-packages (from unstructured==0.14.8) (2025.2.18)\n",
      "Requirement already satisfied: langdetect in /home/jupyterlab/.local/lib/python3.12/site-packages (from unstructured==0.14.8) (1.0.9)\n",
      "Requirement already satisfied: numpy in /home/jupyterlab/.local/lib/python3.12/site-packages (from unstructured==0.14.8) (1.26.4)\n",
      "Requirement already satisfied: rapidfuzz in /home/jupyterlab/.local/lib/python3.12/site-packages (from unstructured==0.14.8) (3.14.1)\n",
      "Requirement already satisfied: backoff in /home/jupyterlab/.local/lib/python3.12/site-packages (from unstructured==0.14.8) (2.2.1)\n",
      "Requirement already satisfied: typing-extensions in /opt/conda/lib/python3.12/site-packages (from unstructured==0.14.8) (4.12.2)\n",
      "Requirement already satisfied: unstructured-client in /home/jupyterlab/.local/lib/python3.12/site-packages (from unstructured==0.14.8) (0.42.3)\n",
      "Requirement already satisfied: wrapt in /home/jupyterlab/.local/lib/python3.12/site-packages (from unstructured==0.14.8) (1.17.3)\n",
      "Requirement already satisfied: tqdm in /opt/conda/lib/python3.12/site-packages (from unstructured==0.14.8) (4.67.1)\n",
      "Requirement already satisfied: soupsieve>1.2 in /opt/conda/lib/python3.12/site-packages (from beautifulsoup4->unstructured==0.14.8) (2.5)\n",
      "Requirement already satisfied: marshmallow<4.0.0,>=3.18.0 in /home/jupyterlab/.local/lib/python3.12/site-packages (from dataclasses-json->unstructured==0.14.8) (3.26.1)\n",
      "Requirement already satisfied: typing-inspect<1,>=0.4.0 in /home/jupyterlab/.local/lib/python3.12/site-packages (from dataclasses-json->unstructured==0.14.8) (0.9.0)\n",
      "Requirement already satisfied: six in /opt/conda/lib/python3.12/site-packages (from langdetect->unstructured==0.14.8) (1.17.0)\n",
      "Requirement already satisfied: click in /home/jupyterlab/.local/lib/python3.12/site-packages (from nltk->unstructured==0.14.8) (8.2.1)\n",
      "Requirement already satisfied: joblib in /home/jupyterlab/.local/lib/python3.12/site-packages (from nltk->unstructured==0.14.8) (1.5.2)\n",
      "Requirement already satisfied: regex>=2021.8.3 in /home/jupyterlab/.local/lib/python3.12/site-packages (from nltk->unstructured==0.14.8) (2025.9.1)\n",
      "Requirement already satisfied: charset_normalizer<4,>=2 in /opt/conda/lib/python3.12/site-packages (from requests->unstructured==0.14.8) (3.4.1)\n",
      "Requirement already satisfied: idna<4,>=2.5 in /opt/conda/lib/python3.12/site-packages (from requests->unstructured==0.14.8) (3.10)\n",
      "Requirement already satisfied: urllib3<3,>=1.21.1 in /opt/conda/lib/python3.12/site-packages (from requests->unstructured==0.14.8) (2.3.0)\n",
      "Requirement already satisfied: certifi>=2017.4.17 in /opt/conda/lib/python3.12/site-packages (from requests->unstructured==0.14.8) (2024.12.14)\n",
      "Requirement already satisfied: aiofiles>=24.1.0 in /home/jupyterlab/.local/lib/python3.12/site-packages (from unstructured-client->unstructured==0.14.8) (24.1.0)\n",
      "Requirement already satisfied: cryptography>=3.1 in /opt/conda/lib/python3.12/site-packages (from unstructured-client->unstructured==0.14.8) (44.0.0)\n",
      "Requirement already satisfied: httpcore>=1.0.9 in /home/jupyterlab/.local/lib/python3.12/site-packages (from unstructured-client->unstructured==0.14.8) (1.0.9)\n",
      "Requirement already satisfied: httpx>=0.27.0 in /opt/conda/lib/python3.12/site-packages (from unstructured-client->unstructured==0.14.8) (0.28.1)\n",
      "Requirement already satisfied: pydantic>=2.11.2 in /home/jupyterlab/.local/lib/python3.12/site-packages (from unstructured-client->unstructured==0.14.8) (2.11.7)\n",
      "Requirement already satisfied: pypdf>=4.0 in /home/jupyterlab/.local/lib/python3.12/site-packages (from unstructured-client->unstructured==0.14.8) (4.2.0)\n",
      "Requirement already satisfied: requests-toolbelt>=1.0.0 in /home/jupyterlab/.local/lib/python3.12/site-packages (from unstructured-client->unstructured==0.14.8) (1.0.0)\n",
      "Requirement already satisfied: cffi>=1.12 in /opt/conda/lib/python3.12/site-packages (from cryptography>=3.1->unstructured-client->unstructured==0.14.8) (1.17.1)\n",
      "Requirement already satisfied: h11>=0.16 in /home/jupyterlab/.local/lib/python3.12/site-packages (from httpcore>=1.0.9->unstructured-client->unstructured==0.14.8) (0.16.0)\n",
      "Requirement already satisfied: anyio in /opt/conda/lib/python3.12/site-packages (from httpx>=0.27.0->unstructured-client->unstructured==0.14.8) (4.8.0)\n",
      "Requirement already satisfied: packaging>=17.0 in /opt/conda/lib/python3.12/site-packages (from marshmallow<4.0.0,>=3.18.0->dataclasses-json->unstructured==0.14.8) (24.2)\n",
      "Requirement already satisfied: annotated-types>=0.6.0 in /opt/conda/lib/python3.12/site-packages (from pydantic>=2.11.2->unstructured-client->unstructured==0.14.8) (0.7.0)\n",
      "Requirement already satisfied: pydantic-core==2.33.2 in /home/jupyterlab/.local/lib/python3.12/site-packages (from pydantic>=2.11.2->unstructured-client->unstructured==0.14.8) (2.33.2)\n",
      "Requirement already satisfied: typing-inspection>=0.4.0 in /home/jupyterlab/.local/lib/python3.12/site-packages (from pydantic>=2.11.2->unstructured-client->unstructured==0.14.8) (0.4.1)\n",
      "Requirement already satisfied: mypy-extensions>=0.3.0 in /home/jupyterlab/.local/lib/python3.12/site-packages (from typing-inspect<1,>=0.4.0->dataclasses-json->unstructured==0.14.8) (1.1.0)\n",
      "Requirement already satisfied: pycparser in /opt/conda/lib/python3.12/site-packages (from cffi>=1.12->cryptography>=3.1->unstructured-client->unstructured==0.14.8) (2.22)\n",
      "Requirement already satisfied: sniffio>=1.1 in /opt/conda/lib/python3.12/site-packages (from anyio->httpx>=0.27.0->unstructured-client->unstructured==0.14.8) (1.3.1)\n",
      "Requirement already satisfied: markdown==3.6 in /home/jupyterlab/.local/lib/python3.12/site-packages (3.6)\n",
      "Requirement already satisfied: jq==1.7.0 in /home/jupyterlab/.local/lib/python3.12/site-packages (1.7.0)\n",
      "Requirement already satisfied: pandas==2.2.2 in /home/jupyterlab/.local/lib/python3.12/site-packages (2.2.2)\n",
      "Requirement already satisfied: numpy>=1.26.0 in /home/jupyterlab/.local/lib/python3.12/site-packages (from pandas==2.2.2) (1.26.4)\n",
      "Requirement already satisfied: python-dateutil>=2.8.2 in /opt/conda/lib/python3.12/site-packages (from pandas==2.2.2) (2.9.0.post0)\n",
      "Requirement already satisfied: pytz>=2020.1 in /opt/conda/lib/python3.12/site-packages (from pandas==2.2.2) (2024.2)\n",
      "Requirement already satisfied: tzdata>=2022.7 in /home/jupyterlab/.local/lib/python3.12/site-packages (from pandas==2.2.2) (2025.2)\n",
      "Requirement already satisfied: six>=1.5 in /opt/conda/lib/python3.12/site-packages (from python-dateutil>=2.8.2->pandas==2.2.2) (1.17.0)\n",
      "Requirement already satisfied: docx2txt==0.8 in /home/jupyterlab/.local/lib/python3.12/site-packages (0.8)\n",
      "Requirement already satisfied: requests==2.32.3 in /opt/conda/lib/python3.12/site-packages (2.32.3)\n",
      "Requirement already satisfied: charset_normalizer<4,>=2 in /opt/conda/lib/python3.12/site-packages (from requests==2.32.3) (3.4.1)\n",
      "Requirement already satisfied: idna<4,>=2.5 in /opt/conda/lib/python3.12/site-packages (from requests==2.32.3) (3.10)\n",
      "Requirement already satisfied: urllib3<3,>=1.21.1 in /opt/conda/lib/python3.12/site-packages (from requests==2.32.3) (2.3.0)\n",
      "Requirement already satisfied: certifi>=2017.4.17 in /opt/conda/lib/python3.12/site-packages (from requests==2.32.3) (2024.12.14)\n",
      "Requirement already satisfied: beautifulsoup4==4.12.3 in /opt/conda/lib/python3.12/site-packages (4.12.3)\n",
      "Requirement already satisfied: soupsieve>1.2 in /opt/conda/lib/python3.12/site-packages (from beautifulsoup4==4.12.3) (2.5)\n",
      "Requirement already satisfied: nltk==3.8.0 in /home/jupyterlab/.local/lib/python3.12/site-packages (3.8)\n",
      "Requirement already satisfied: click in /home/jupyterlab/.local/lib/python3.12/site-packages (from nltk==3.8.0) (8.2.1)\n",
      "Requirement already satisfied: joblib in /home/jupyterlab/.local/lib/python3.12/site-packages (from nltk==3.8.0) (1.5.2)\n",
      "Requirement already satisfied: regex>=2021.8.3 in /home/jupyterlab/.local/lib/python3.12/site-packages (from nltk==3.8.0) (2025.9.1)\n",
      "Requirement already satisfied: tqdm in /opt/conda/lib/python3.12/site-packages (from nltk==3.8.0) (4.67.1)\n"
     ]
    }
   ],
   "source": [
    "\n",
    "#install necessary packages\n",
    "!pip install --user \"langchain-community==0.2.1\"\n",
    "!pip install --user \"pypdf==4.2.0\"\n",
    "!pip install --user \"PyMuPDF==1.24.5\"\n",
    "!pip install --user \"unstructured==0.14.8\"\n",
    "!pip install --user \"markdown==3.6\"\n",
    "!pip install --user  \"jq==1.7.0\"\n",
    "!pip install --user \"pandas==2.2.2\"\n",
    "!pip install --user \"docx2txt==0.8\"\n",
    "!pip install --user \"requests==2.32.3\"\n",
    "!pip install --user \"beautifulsoup4==4.12.3\"\n",
    "!pip install --user \"nltk==3.8.0\"\n"
   ]
  },
  {
   "cell_type": "code",
   "execution_count": 2,
   "id": "df8d12b4-b2c1-4e6a-bf76-042b4c6236b3",
   "metadata": {},
   "outputs": [],
   "source": [
    "def warn (*args, **kwargs):\n",
    "    pass\n",
    "import warnings\n",
    "\n",
    "warnings.warn= warn\n",
    "warnings.filterwarnings(\"ignore\")\n",
    "\n",
    "\n"
   ]
  },
  {
   "cell_type": "code",
   "execution_count": 4,
   "id": "4762502a-7c6c-4aab-965e-5de45f4e3a66",
   "metadata": {},
   "outputs": [
    {
     "data": {
      "text/plain": [
       "\u001b[0;31mType:\u001b[0m        module\n",
       "\u001b[0;31mString form:\u001b[0m <module 'nltk' from '/home/jupyterlab/.local/lib/python3.12/site-packages/nltk/__init__.py'>\n",
       "\u001b[0;31mFile:\u001b[0m        ~/.local/lib/python3.12/site-packages/nltk/__init__.py\n",
       "\u001b[0;31mDocstring:\u001b[0m  \n",
       "The Natural Language Toolkit (NLTK) is an open source Python library\n",
       "for Natural Language Processing.  A free online book is available.\n",
       "(If you use the library for academic research, please cite the book.)\n",
       "\n",
       "Steven Bird, Ewan Klein, and Edward Loper (2009).\n",
       "Natural Language Processing with Python.  O'Reilly Media Inc.\n",
       "https://www.nltk.org/book/\n",
       "\n",
       "isort:skip_file\n",
       "\n",
       "@version: 3.8"
      ]
     },
     "metadata": {},
     "output_type": "display_data"
    }
   ],
   "source": [
    "import langchain_community.document_loaders as dl\n",
    "\n",
    "from pprint import pprint\n",
    "import json\n",
    "import nltk\n",
    "from pathlib import Path\n",
    "\n",
    "nltk?"
   ]
  },
  {
   "cell_type": "code",
   "execution_count": 5,
   "id": "36ad9b7e-ce52-4241-a5d5-5287fdc33cf3",
   "metadata": {},
   "outputs": [
    {
     "name": "stdout",
     "output_type": "stream",
     "text": [
      "a\n",
      "[('This', 'DT'), ('is', 'VBZ'), ('an', 'DT'), ('example', 'NN'), ('sentence', 'NN'), ('.', '.')]\n"
     ]
    },
    {
     "name": "stderr",
     "output_type": "stream",
     "text": [
      "[nltk_data] Downloading package punkt_tab to\n",
      "[nltk_data]     /home/jupyterlab/nltk_data...\n",
      "[nltk_data]   Package punkt_tab is already up-to-date!\n",
      "[nltk_data] Downloading package averaged_perceptron_tagger to\n",
      "[nltk_data]     /home/jupyterlab/nltk_data...\n",
      "[nltk_data]   Package averaged_perceptron_tagger is already up-to-\n",
      "[nltk_data]       date!\n"
     ]
    }
   ],
   "source": [
    "nltk.download(\"punkt_tab\") #for tokenization\n",
    "nltk.download(\"averaged_perceptron_tagger\")\n",
    "text = \"This is an example sentence.\"\n",
    "tokens = nltk.word_tokenize(text)\n",
    "tags = nltk.pos_tag(tokens)\n",
    "\n",
    "print(\"a\")\n",
    "print(tags)"
   ]
  },
  {
   "cell_type": "markdown",
   "id": "41b60968-225e-40c8-9291-8c7addaf2f18",
   "metadata": {},
   "source": [
    "\n",
    "## Loading from textfiles"
   ]
  },
  {
   "cell_type": "code",
   "execution_count": 6,
   "id": "82182570-3a72-411d-833a-9458b3bfc993",
   "metadata": {},
   "outputs": [
    {
     "name": "stdout",
     "output_type": "stream",
     "text": [
      "--2025-09-10 19:55:07--  https://cf-courses-data.s3.us.cloud-object-storage.appdomain.cloud/Ec5f3KYU1CpbKRp1whFLZw/new-Policies.txt\n",
      "169.63.118.104ourses-data.s3.us.cloud-object-storage.appdomain.cloud (cf-courses-data.s3.us.cloud-object-storage.appdomain.cloud)... \n",
      "Connecting to cf-courses-data.s3.us.cloud-object-storage.appdomain.cloud (cf-courses-data.s3.us.cloud-object-storage.appdomain.cloud)|169.63.118.104|:443... connected.\n",
      "HTTP request sent, awaiting response... 200 OK\n",
      "Length: 6363 (6.2K) [text/plain]\n",
      "Saving to: ‘new-Policies.txt.6’\n",
      "\n",
      "new-Policies.txt.6  100%[===================>]   6.21K  --.-KB/s    in 0s      \n",
      "\n",
      "2025-09-10 19:55:07 (711 MB/s) - ‘new-Policies.txt.6’ saved [6363/6363]\n",
      "\n"
     ]
    }
   ],
   "source": [
    "!wget \"https://cf-courses-data.s3.us.cloud-object-storage.appdomain.cloud/Ec5f3KYU1CpbKRp1whFLZw/new-Policies.txt\""
   ]
  },
  {
   "cell_type": "code",
   "execution_count": 7,
   "id": "c8466cc5-8cca-4d48-ae95-e3b8d82123f8",
   "metadata": {},
   "outputs": [
    {
     "name": "stdout",
     "output_type": "stream",
     "text": [
      "('1. Code of Conduct\\n'\n",
      " '\\n'\n",
      " 'Our Code of Conduct establishes the core values and ethical standards that '\n",
      " 'all m')\n"
     ]
    }
   ],
   "source": [
    "loader = dl.TextLoader(\"new-Policies.txt\")\n",
    "loader\n",
    "\n",
    "data=loader.load()\n",
    "\n",
    "pprint(data[0].page_content[:100])\n",
    "# pprint(data[1].page_content) wont work since we loaded everything as one document (didn't split yet)\n",
    "\n",
    "\n"
   ]
  },
  {
   "cell_type": "markdown",
   "id": "5c31f486-f2ed-4b0f-ae66-f896e5e8186d",
   "metadata": {},
   "source": [
    "## PYPDF LOADER\n"
   ]
  },
  {
   "cell_type": "code",
   "execution_count": 8,
   "id": "7dd65a8a-165d-47b3-8144-a474ac6facc6",
   "metadata": {},
   "outputs": [],
   "source": [
    "pdf_url = \"https://cf-courses-data.s3.us.cloud-object-storage.appdomain.cloud/Q81D33CdRLK6LswuQrANQQ/instructlab.pdf\"\n",
    "\n",
    "loader = dl.PyPDFLoader(pdf_url)\n",
    "loader1 = dl.PyMuPDFLoader(pdf_url)\n",
    "pages = loader.load_and_split()\n",
    "pages1=loader1.load_and_split()"
   ]
  },
  {
   "cell_type": "code",
   "execution_count": 9,
   "id": "49fe19d0-a25f-4f27-aee8-90fa85005343",
   "metadata": {},
   "outputs": [
    {
     "name": "stdout",
     "output_type": "stream",
     "text": [
      "12\n",
      "<class 'list'>\n",
      "CONTENT:  LAB: L ARGE -SCALE ALIGNMENT FOR CHATBOTS\n",
      "MIT-IBM Watson AI Lab and IBM Research\n",
      "Shivchander Sudalai\n",
      "page 0  METADATA:  {'source': 'https://cf-courses-data.s3.us.cloud-object-storage.appdomain.cloud/Q81D33CdRLK6LswuQrANQQ/instructlab.pdf', 'page': 0} \n",
      "\n",
      "\n",
      "\n",
      "CONTENT:  training captures enough of the distribution of language and knowledge, such that a small amount of\n",
      "\n",
      "page 1  METADATA:  {'source': 'https://cf-courses-data.s3.us.cloud-object-storage.appdomain.cloud/Q81D33CdRLK6LswuQrANQQ/instructlab.pdf', 'page': 1} \n",
      "\n",
      "\n",
      "\n",
      "CONTENT:  versity and scalability, alongside a progressive training framework aimed at improving the model’s\n",
      "r\n",
      "page 2  METADATA:  {'source': 'https://cf-courses-data.s3.us.cloud-object-storage.appdomain.cloud/Q81D33CdRLK6LswuQrANQQ/instructlab.pdf', 'page': 1} \n",
      "\n",
      "\n",
      "\n",
      "CONTENT:  LAB: LARGE-SCALE ALIGNMENT FOR CHATBOTS\n",
      "MIT-IBM Watson AI Lab and IBM Research\n",
      "Shivchander Sudalaira\n",
      "page 0  METADATA:  {'source': 'https://cf-courses-data.s3.us.cloud-object-storage.appdomain.cloud/Q81D33CdRLK6LswuQrANQQ/instructlab.pdf', 'file_path': 'https://cf-courses-data.s3.us.cloud-object-storage.appdomain.cloud/Q81D33CdRLK6LswuQrANQQ/instructlab.pdf', 'page': 0, 'total_pages': 10, 'format': 'PDF 1.5', 'title': '', 'author': '', 'subject': '', 'keywords': '', 'creator': 'LaTeX with hyperref', 'producer': 'pdfTeX-1.40.25', 'creationDate': 'D:20240501000524Z', 'modDate': 'D:20240501000524Z', 'trapped': ''} \n",
      "\n",
      "\n",
      "\n",
      "CONTENT:  training captures enough of the distribution of language and knowledge, such that a small amount of\n",
      "\n",
      "page 1  METADATA:  {'source': 'https://cf-courses-data.s3.us.cloud-object-storage.appdomain.cloud/Q81D33CdRLK6LswuQrANQQ/instructlab.pdf', 'file_path': 'https://cf-courses-data.s3.us.cloud-object-storage.appdomain.cloud/Q81D33CdRLK6LswuQrANQQ/instructlab.pdf', 'page': 1, 'total_pages': 10, 'format': 'PDF 1.5', 'title': '', 'author': '', 'subject': '', 'keywords': '', 'creator': 'LaTeX with hyperref', 'producer': 'pdfTeX-1.40.25', 'creationDate': 'D:20240501000524Z', 'modDate': 'D:20240501000524Z', 'trapped': ''} \n",
      "\n",
      "\n",
      "\n",
      "CONTENT:  versity and scalability, alongside a progressive training framework aimed at improving the model’s\n",
      "r\n",
      "page 2  METADATA:  {'source': 'https://cf-courses-data.s3.us.cloud-object-storage.appdomain.cloud/Q81D33CdRLK6LswuQrANQQ/instructlab.pdf', 'file_path': 'https://cf-courses-data.s3.us.cloud-object-storage.appdomain.cloud/Q81D33CdRLK6LswuQrANQQ/instructlab.pdf', 'page': 1, 'total_pages': 10, 'format': 'PDF 1.5', 'title': '', 'author': '', 'subject': '', 'keywords': '', 'creator': 'LaTeX with hyperref', 'producer': 'pdfTeX-1.40.25', 'creationDate': 'D:20240501000524Z', 'modDate': 'D:20240501000524Z', 'trapped': ''} \n",
      "\n",
      "\n",
      "\n"
     ]
    }
   ],
   "source": [
    "#print(pages[1])\n",
    "print(len(pages))\n",
    "print(type(pages))\n",
    "for p, page in enumerate(pages[:3]):\n",
    "    print(\"CONTENT: \", page.page_content[:100])\n",
    "\n",
    "    print(\"page\", p, \" METADATA: \", page.metadata , \"\\n\\n\\n\")\n",
    "\n",
    "\n",
    "for p, page in enumerate(pages1[:3]):\n",
    "    print(\"CONTENT: \", page.page_content[:100])\n",
    "\n",
    "    print(\"page\", p, \" METADATA: \", page.metadata , \"\\n\\n\\n\")"
   ]
  },
  {
   "cell_type": "markdown",
   "id": "07a49cca-ce0e-4b2b-a2d5-e17c5752c1dd",
   "metadata": {},
   "source": [
    "\n",
    "## Markdown\n",
    "\n"
   ]
  },
  {
   "cell_type": "code",
   "execution_count": 10,
   "id": "5502a5a5-5662-466d-8c76-48af0ccefa03",
   "metadata": {},
   "outputs": [
    {
     "name": "stdout",
     "output_type": "stream",
     "text": [
      "--2025-09-10 19:55:15--  https://cf-courses-data.s3.us.cloud-object-storage.appdomain.cloud/eMSP5vJjj9yOfAacLZRWsg/markdown-sample.md\n",
      "Resolving cf-courses-data.s3.us.cloud-object-storage.appdomain.cloud (cf-courses-data.s3.us.cloud-object-storage.appdomain.cloud)... 169.63.118.104\n",
      "Connecting to cf-courses-data.s3.us.cloud-object-storage.appdomain.cloud (cf-courses-data.s3.us.cloud-object-storage.appdomain.cloud)|169.63.118.104|:443... connected.\n",
      "200 OKequest sent, awaiting response... \n",
      "Length: 3398 (3.3K) [text/markdown]\n",
      "Saving to: ‘markdown-sample.md.4’\n",
      "\n",
      "markdown-sample.md. 100%[===================>]   3.32K  --.-KB/s    in 0s      \n",
      "\n",
      "2025-09-10 19:55:15 (771 MB/s) - ‘markdown-sample.md.4’ saved [3398/3398]\n",
      "\n"
     ]
    }
   ],
   "source": [
    "!wget 'https://cf-courses-data.s3.us.cloud-object-storage.appdomain.cloud/eMSP5vJjj9yOfAacLZRWsg/markdown-sample.md'\n"
   ]
  },
  {
   "cell_type": "code",
   "execution_count": 11,
   "id": "4d35d2ca-701f-4876-80f6-95c10714b998",
   "metadata": {},
   "outputs": [
    {
     "name": "stdout",
     "output_type": "stream",
     "text": [
      "[Document(metadata={'source': 'markdown-sample.md'}, page_content='An h1 header\\n\\nParagraphs are separated by a blank line.\\n\\n2nd paragraph. Italic, bold, and monospace. Itemized lists\\nlook like:\\n\\nthis one\\n\\nthat one\\n\\nthe other one\\n\\nNote that --- not considering the asterisk --- the actual text\\ncontent starts at 4-columns in.\\n\\nBlock quotes are\\nwritten like so.\\n\\nThey can span multiple paragraphs,\\nif you like.\\n\\nUse 3 dashes for an em-dash. Use 2 dashes for ranges (ex., \"it\\'s all\\nin chapters 12--14\"). Three dots ... will be converted to an ellipsis.\\nUnicode is supported. ☺\\n\\nAn h2 header\\n\\nHere\\'s a numbered list:\\n\\nfirst item\\n\\nsecond item\\n\\nthird item\\n\\nNote again how the actual text starts at 4 columns in (4 characters\\nfrom the left side). Here\\'s a code sample:\\n\\nAs you probably guessed, indented 4 spaces. By the way, instead of\\nindenting the block, you can use delimited blocks, if you like:\\n\\n~~~\\ndefine foobar() {\\n    print \"Welcome to flavor country!\";\\n}\\n~~~\\n\\n(which makes copying & pasting easier). You can optionally mark the\\ndelimited block for Pandoc to syntax highlight it:\\n\\n~~~python\\nimport time\\n\\nQuick, count to ten!\\n\\nfor i in range(10):\\n    # (but not too quick)\\n    time.sleep(0.5)\\n    print i\\n~~~\\n\\nAn h3 header\\n\\nNow a nested list:\\n\\nFirst, get these ingredients:\\n\\ncarrots\\ncelery\\nlentils\\n\\nBoil some water.\\n\\nDump everything in the pot and follow\\n    this algorithm:\\nfind wooden spoon\\nuncover pot\\nstir\\ncover pot\\nbalance wooden spoon precariously on pot handle\\nwait 10 minutes\\ngoto first step (or shut off burner when done)\\n\\nDo not bump wooden spoon or it will fall.\\n\\nNotice again how text always lines up on 4-space indents (including\\nthat last line which continues item 3 above).\\n\\nHere\\'s a link to a website, to a local\\ndoc, and to a section heading in the current\\ndoc. Here\\'s a footnote [^1].\\n\\n[^1]: Footnote text goes here.\\n\\nTables can look like this:\\n\\nsize  material      color\\n\\n9     leather       brown\\n10    hemp canvas   natural\\n11    glass         transparent\\n\\nTable: Shoes, their sizes, and what they\\'re made of\\n\\n(The above is the caption for the table.) Pandoc also supports\\nmulti-line tables:\\n\\nkeyword   text\\n\\nred       Sunsets, apples, and\\n          other red or reddish\\n          things.\\n\\ngreen     Leaves, grass, frogs\\n          and other things it\\'s\\n          not easy being.\\n\\nA horizontal rule follows.\\n\\nHere\\'s a definition list:\\n\\napples\\n  : Good for making applesauce.\\noranges\\n  : Citrus!\\ntomatoes\\n  : There\\'s no \"e\" in tomatoe.\\n\\nAgain, text is indented 4 spaces. (Put a blank line between each\\nterm/definition pair to spread things out more.)\\n\\nHere\\'s a \"line block\":\\n\\n| Line one\\n|   Line too\\n| Line tree\\n\\nand images can be specified like so:\\n\\nInline math equations go in like so: $\\\\omega = d\\\\phi / dt$. Display\\nmath should get its own line and be put in in double-dollarsigns:\\n\\n$$I = \\\\int \\\\rho R^{2} dV$$\\n\\nAnd note that you can backslash-escape any punctuation characters\\nwhich you wish to be displayed literally, ex.: `foo`, *bar*, etc.')]\n"
     ]
    }
   ],
   "source": [
    "markdown_path = \"markdown-sample.md\"\n",
    "\n",
    "pages = (dl.UnstructuredMarkdownLoader(markdown_path)).load()\n",
    "\n",
    "print(pages)\n"
   ]
  },
  {
   "cell_type": "markdown",
   "id": "1d720a59-6d4f-492d-b986-f3981cdf5bda",
   "metadata": {},
   "source": [
    "## JSON\n"
   ]
  },
  {
   "cell_type": "code",
   "execution_count": 12,
   "id": "4d87a43b-fa83-4de0-86e7-c56ef1f8d994",
   "metadata": {},
   "outputs": [
    {
     "name": "stdout",
     "output_type": "stream",
     "text": [
      "--2025-09-10 19:55:21--  https://cf-courses-data.s3.us.cloud-object-storage.appdomain.cloud/hAmzVJeOUAMHzmhUHNdAUg/facebook-chat.json\n",
      "Resolving cf-courses-data.s3.us.cloud-object-storage.appdomain.cloud (cf-courses-data.s3.us.cloud-object-storage.appdomain.cloud)... 169.63.118.104\n",
      "Connecting to cf-courses-data.s3.us.cloud-object-storage.appdomain.cloud (cf-courses-data.s3.us.cloud-object-storage.appdomain.cloud)|169.63.118.104|:443... connected.\n",
      "200 OKequest sent, awaiting response... \n",
      "Length: 2167 (2.1K) [application/json]\n",
      "Saving to: ‘facebook-chat.json.4’\n",
      "\n",
      "facebook-chat.json. 100%[===================>]   2.12K  --.-KB/s    in 0s      \n",
      "\n",
      "2025-09-10 19:55:21 (277 MB/s) - ‘facebook-chat.json.4’ saved [2167/2167]\n",
      "\n"
     ]
    }
   ],
   "source": [
    "!wget 'https://cf-courses-data.s3.us.cloud-object-storage.appdomain.cloud/hAmzVJeOUAMHzmhUHNdAUg/facebook-chat.json'"
   ]
  },
  {
   "cell_type": "code",
   "execution_count": 13,
   "id": "46d0fa03-4567-40b2-9a9a-ca4512ed3a55",
   "metadata": {},
   "outputs": [
    {
     "name": "stdout",
     "output_type": "stream",
     "text": [
      "{'image': {'creation_timestamp': 1675549016, 'uri': 'image_of_the_chat.jpg'},\n",
      " 'is_still_participant': True,\n",
      " 'joinable_mode': {'link': '', 'mode': 1},\n",
      " 'magic_words': [],\n",
      " 'messages': [{'content': 'Bye!',\n",
      "               'sender_name': 'User 2',\n",
      "               'timestamp_ms': 1675597571851},\n",
      "              {'content': 'Oh no worries! Bye',\n",
      "               'sender_name': 'User 1',\n",
      "               'timestamp_ms': 1675597435669},\n",
      "              {'content': 'No Im sorry it was my mistake, the blue one is not '\n",
      "                          'for sale',\n",
      "               'sender_name': 'User 2',\n",
      "               'timestamp_ms': 1675596277579},\n",
      "              {'content': 'I thought you were selling the blue one!',\n",
      "               'sender_name': 'User 1',\n",
      "               'timestamp_ms': 1675595140251},\n",
      "              {'content': 'Im not interested in this bag. Im interested in the '\n",
      "                          'blue one!',\n",
      "               'sender_name': 'User 1',\n",
      "               'timestamp_ms': 1675595109305},\n",
      "              {'content': 'Here is $129',\n",
      "               'sender_name': 'User 2',\n",
      "               'timestamp_ms': 1675595068468},\n",
      "              {'photos': [{'creation_timestamp': 1675595059,\n",
      "                           'uri': 'url_of_some_picture.jpg'}],\n",
      "               'sender_name': 'User 2',\n",
      "               'timestamp_ms': 1675595060730},\n",
      "              {'content': 'Online is at least $100',\n",
      "               'sender_name': 'User 2',\n",
      "               'timestamp_ms': 1675595045152},\n",
      "              {'content': 'How much do you want?',\n",
      "               'sender_name': 'User 1',\n",
      "               'timestamp_ms': 1675594799696},\n",
      "              {'content': 'Goodmorning! $50 is too low.',\n",
      "               'sender_name': 'User 2',\n",
      "               'timestamp_ms': 1675577876645},\n",
      "              {'content': 'Hi! Im interested in your bag. Im offering $50. Let '\n",
      "                          'me know if you are interested. Thanks!',\n",
      "               'sender_name': 'User 1',\n",
      "               'timestamp_ms': 1675549022673}],\n",
      " 'participants': [{'name': 'User 1'}, {'name': 'User 2'}],\n",
      " 'thread_path': 'inbox/User 1 and User 2 chat',\n",
      " 'title': 'User 1 and User 2 chat'}\n"
     ]
    }
   ],
   "source": [
    "file_path='facebook-chat.json'\n",
    "data = json.loads(Path(file_path).read_text())\n",
    "pprint(data)"
   ]
  },
  {
   "cell_type": "code",
   "execution_count": 14,
   "id": "b8320d6f-8dce-4baf-b17d-a826d04af9ba",
   "metadata": {},
   "outputs": [
    {
     "name": "stdout",
     "output_type": "stream",
     "text": [
      "Requirement already satisfied: jq in /home/jupyterlab/.local/lib/python3.12/site-packages (1.7.0)\n",
      "image_of_the_chat.jpg {'source': '/resources/AI0214EN/facebook-chat.json', 'seq_num': 1} \n",
      "\n",
      "\n",
      "\n",
      "\n",
      "Bye! {'source': '/resources/AI0214EN/facebook-chat.json', 'seq_num': 1} \n",
      "\n",
      "\n",
      "\n",
      "\n",
      "Oh no worries! Bye {'source': '/resources/AI0214EN/facebook-chat.json', 'seq_num': 2} \n",
      "\n",
      "\n",
      "\n",
      "\n",
      "No Im sorry it was my mistake, the blue one is not for sale {'source': '/resources/AI0214EN/facebook-chat.json', 'seq_num': 3} \n",
      "\n",
      "\n",
      "\n",
      "\n",
      "I thought you were selling the blue one! {'source': '/resources/AI0214EN/facebook-chat.json', 'seq_num': 4} \n",
      "\n",
      "\n",
      "\n",
      "\n",
      "Im not interested in this bag. Im interested in the blue one! {'source': '/resources/AI0214EN/facebook-chat.json', 'seq_num': 5} \n",
      "\n",
      "\n",
      "\n",
      "\n",
      "Here is $129 {'source': '/resources/AI0214EN/facebook-chat.json', 'seq_num': 6} \n",
      "\n",
      "\n",
      "\n",
      "\n",
      " {'source': '/resources/AI0214EN/facebook-chat.json', 'seq_num': 7} \n",
      "\n",
      "\n",
      "\n",
      "\n",
      "Online is at least $100 {'source': '/resources/AI0214EN/facebook-chat.json', 'seq_num': 8} \n",
      "\n",
      "\n",
      "\n",
      "\n",
      "How much do you want? {'source': '/resources/AI0214EN/facebook-chat.json', 'seq_num': 9} \n",
      "\n",
      "\n",
      "\n",
      "\n",
      "Goodmorning! $50 is too low. {'source': '/resources/AI0214EN/facebook-chat.json', 'seq_num': 10} \n",
      "\n",
      "\n",
      "\n",
      "\n",
      "Hi! Im interested in your bag. Im offering $50. Let me know if you are interested. Thanks! {'source': '/resources/AI0214EN/facebook-chat.json', 'seq_num': 11} \n",
      "\n",
      "\n",
      "\n",
      "\n"
     ]
    }
   ],
   "source": [
    "!pip install --user jq\n",
    "from langchain_community.document_loaders import JSONLoader\n",
    "\n",
    "\n",
    "#limitation is that JSON loader only can load one item in jq_schema\n",
    "# Load image URI\n",
    "loader_image = dl.JSONLoader(\n",
    "    file_path=file_path,\n",
    "    jq_schema=\".image.uri\",\n",
    "    text_content=False\n",
    ")\n",
    "docs_image = loader_image.load()\n",
    "\n",
    "# Load messages\n",
    "loader_messages = dl.JSONLoader(\n",
    "    file_path=file_path,\n",
    "    jq_schema=\".messages[].content\",\n",
    "    text_content=False\n",
    ")\n",
    "docs_messages = loader_messages.load()\n",
    "\n",
    "# Combine into one list\n",
    "all_docs = docs_image + docs_messages\n",
    "\n",
    "# Preview\n",
    "for doc in all_docs:\n",
    "    print(doc.page_content, doc.metadata, '\\n\\n\\n\\n')\n"
   ]
  },
  {
   "cell_type": "markdown",
   "id": "4462a70a-f7d8-4bfe-a0a8-344a84060429",
   "metadata": {},
   "source": [
    "\n",
    "\n",
    "# # CSV\n"
   ]
  },
  {
   "cell_type": "code",
   "execution_count": 15,
   "id": "c4f7d31d-c07e-473c-926f-68f91fead56f",
   "metadata": {},
   "outputs": [
    {
     "name": "stdout",
     "output_type": "stream",
     "text": [
      "--2025-09-10 19:55:26--  https://cf-courses-data.s3.us.cloud-object-storage.appdomain.cloud/IygVG_j0M87BM4Z0zFsBMA/mlb-teams-2012.csv\n",
      "169.63.118.104ourses-data.s3.us.cloud-object-storage.appdomain.cloud (cf-courses-data.s3.us.cloud-object-storage.appdomain.cloud)... \n",
      "Connecting to cf-courses-data.s3.us.cloud-object-storage.appdomain.cloud (cf-courses-data.s3.us.cloud-object-storage.appdomain.cloud)|169.63.118.104|:443... connected.\n",
      "HTTP request sent, awaiting response... 200 OK\n",
      "Length: 848 [text/csv]\n",
      "Saving to: ‘mlb-teams-2012.csv.4’\n",
      "\n",
      "mlb-teams-2012.csv. 100%[===================>]     848  --.-KB/s    in 0s      \n",
      "\n",
      "2025-09-10 19:55:27 (505 MB/s) - ‘mlb-teams-2012.csv.4’ saved [848/848]\n",
      "\n"
     ]
    }
   ],
   "source": [
    "!wget 'https://cf-courses-data.s3.us.cloud-object-storage.appdomain.cloud/IygVG_j0M87BM4Z0zFsBMA/mlb-teams-2012.csv'"
   ]
  },
  {
   "cell_type": "code",
   "execution_count": 16,
   "id": "c66d8b24-c979-459b-a85a-ea8b2daefff0",
   "metadata": {},
   "outputs": [],
   "source": [
    "loader = dl.CSVLoader(file_path='mlb-teams-2012.csv')\n",
    "data = loader.load()\n",
    "#loads CSV into string format, each row is a string, doesnt parse columns. If you want columns use pandas"
   ]
  },
  {
   "cell_type": "code",
   "execution_count": 17,
   "id": "292a3569-5ac1-4371-8b1e-b2364e0588ed",
   "metadata": {},
   "outputs": [
    {
     "name": "stdout",
     "output_type": "stream",
     "text": [
      "[Document(metadata={'source': 'mlb-teams-2012.csv', 'row': 0}, page_content='Team: Nationals\\n\"Payroll (millions)\": 81.34\\n\"Wins\": 98'),\n",
      " Document(metadata={'source': 'mlb-teams-2012.csv', 'row': 1}, page_content='Team: Reds\\n\"Payroll (millions)\": 82.20\\n\"Wins\": 97'),\n",
      " Document(metadata={'source': 'mlb-teams-2012.csv', 'row': 2}, page_content='Team: Yankees\\n\"Payroll (millions)\": 197.96\\n\"Wins\": 95'),\n",
      " Document(metadata={'source': 'mlb-teams-2012.csv', 'row': 3}, page_content='Team: Giants\\n\"Payroll (millions)\": 117.62\\n\"Wins\": 94'),\n",
      " Document(metadata={'source': 'mlb-teams-2012.csv', 'row': 4}, page_content='Team: Braves\\n\"Payroll (millions)\": 83.31\\n\"Wins\": 94'),\n",
      " Document(metadata={'source': 'mlb-teams-2012.csv', 'row': 5}, page_content='Team: Athletics\\n\"Payroll (millions)\": 55.37\\n\"Wins\": 94'),\n",
      " Document(metadata={'source': 'mlb-teams-2012.csv', 'row': 6}, page_content='Team: Rangers\\n\"Payroll (millions)\": 120.51\\n\"Wins\": 93'),\n",
      " Document(metadata={'source': 'mlb-teams-2012.csv', 'row': 7}, page_content='Team: Orioles\\n\"Payroll (millions)\": 81.43\\n\"Wins\": 93'),\n",
      " Document(metadata={'source': 'mlb-teams-2012.csv', 'row': 8}, page_content='Team: Rays\\n\"Payroll (millions)\": 64.17\\n\"Wins\": 90'),\n",
      " Document(metadata={'source': 'mlb-teams-2012.csv', 'row': 9}, page_content='Team: Angels\\n\"Payroll (millions)\": 154.49\\n\"Wins\": 89'),\n",
      " Document(metadata={'source': 'mlb-teams-2012.csv', 'row': 10}, page_content='Team: Tigers\\n\"Payroll (millions)\": 132.30\\n\"Wins\": 88'),\n",
      " Document(metadata={'source': 'mlb-teams-2012.csv', 'row': 11}, page_content='Team: Cardinals\\n\"Payroll (millions)\": 110.30\\n\"Wins\": 88'),\n",
      " Document(metadata={'source': 'mlb-teams-2012.csv', 'row': 12}, page_content='Team: Dodgers\\n\"Payroll (millions)\": 95.14\\n\"Wins\": 86'),\n",
      " Document(metadata={'source': 'mlb-teams-2012.csv', 'row': 13}, page_content='Team: White Sox\\n\"Payroll (millions)\": 96.92\\n\"Wins\": 85'),\n",
      " Document(metadata={'source': 'mlb-teams-2012.csv', 'row': 14}, page_content='Team: Brewers\\n\"Payroll (millions)\": 97.65\\n\"Wins\": 83'),\n",
      " Document(metadata={'source': 'mlb-teams-2012.csv', 'row': 15}, page_content='Team: Phillies\\n\"Payroll (millions)\": 174.54\\n\"Wins\": 81'),\n",
      " Document(metadata={'source': 'mlb-teams-2012.csv', 'row': 16}, page_content='Team: Diamondbacks\\n\"Payroll (millions)\": 74.28\\n\"Wins\": 81'),\n",
      " Document(metadata={'source': 'mlb-teams-2012.csv', 'row': 17}, page_content='Team: Pirates\\n\"Payroll (millions)\": 63.43\\n\"Wins\": 79'),\n",
      " Document(metadata={'source': 'mlb-teams-2012.csv', 'row': 18}, page_content='Team: Padres\\n\"Payroll (millions)\": 55.24\\n\"Wins\": 76'),\n",
      " Document(metadata={'source': 'mlb-teams-2012.csv', 'row': 19}, page_content='Team: Mariners\\n\"Payroll (millions)\": 81.97\\n\"Wins\": 75'),\n",
      " Document(metadata={'source': 'mlb-teams-2012.csv', 'row': 20}, page_content='Team: Mets\\n\"Payroll (millions)\": 93.35\\n\"Wins\": 74'),\n",
      " Document(metadata={'source': 'mlb-teams-2012.csv', 'row': 21}, page_content='Team: Blue Jays\\n\"Payroll (millions)\": 75.48\\n\"Wins\": 73'),\n",
      " Document(metadata={'source': 'mlb-teams-2012.csv', 'row': 22}, page_content='Team: Royals\\n\"Payroll (millions)\": 60.91\\n\"Wins\": 72'),\n",
      " Document(metadata={'source': 'mlb-teams-2012.csv', 'row': 23}, page_content='Team: Marlins\\n\"Payroll (millions)\": 118.07\\n\"Wins\": 69'),\n",
      " Document(metadata={'source': 'mlb-teams-2012.csv', 'row': 24}, page_content='Team: Red Sox\\n\"Payroll (millions)\": 173.18\\n\"Wins\": 69'),\n",
      " Document(metadata={'source': 'mlb-teams-2012.csv', 'row': 25}, page_content='Team: Indians\\n\"Payroll (millions)\": 78.43\\n\"Wins\": 68'),\n",
      " Document(metadata={'source': 'mlb-teams-2012.csv', 'row': 26}, page_content='Team: Twins\\n\"Payroll (millions)\": 94.08\\n\"Wins\": 66'),\n",
      " Document(metadata={'source': 'mlb-teams-2012.csv', 'row': 27}, page_content='Team: Rockies\\n\"Payroll (millions)\": 78.06\\n\"Wins\": 64'),\n",
      " Document(metadata={'source': 'mlb-teams-2012.csv', 'row': 28}, page_content='Team: Cubs\\n\"Payroll (millions)\": 88.19\\n\"Wins\": 61'),\n",
      " Document(metadata={'source': 'mlb-teams-2012.csv', 'row': 29}, page_content='Team: Astros\\n\"Payroll (millions)\": 60.65\\n\"Wins\": 55')]\n",
      "Team: Nationals\n",
      "\"Payroll (millions)\": 81.34\n",
      "\"Wins\": 98 \n",
      "\n",
      "Team: Reds\n",
      "\"Payroll (millions)\": 82.20\n",
      "\"Wins\": 97 \n",
      "\n",
      "Team: Yankees\n",
      "\"Payroll (millions)\": 197.96\n",
      "\"Wins\": 95 \n",
      "\n",
      "Team: Giants\n",
      "\"Payroll (millions)\": 117.62\n",
      "\"Wins\": 94 \n",
      "\n",
      "Team: Braves\n",
      "\"Payroll (millions)\": 83.31\n",
      "\"Wins\": 94 \n",
      "\n",
      "Team: Athletics\n",
      "\"Payroll (millions)\": 55.37\n",
      "\"Wins\": 94 \n",
      "\n",
      "Team: Rangers\n",
      "\"Payroll (millions)\": 120.51\n",
      "\"Wins\": 93 \n",
      "\n",
      "Team: Orioles\n",
      "\"Payroll (millions)\": 81.43\n",
      "\"Wins\": 93 \n",
      "\n",
      "Team: Rays\n",
      "\"Payroll (millions)\": 64.17\n",
      "\"Wins\": 90 \n",
      "\n",
      "Team: Angels\n",
      "\"Payroll (millions)\": 154.49\n",
      "\"Wins\": 89 \n",
      "\n",
      "Team: Tigers\n",
      "\"Payroll (millions)\": 132.30\n",
      "\"Wins\": 88 \n",
      "\n",
      "Team: Cardinals\n",
      "\"Payroll (millions)\": 110.30\n",
      "\"Wins\": 88 \n",
      "\n",
      "Team: Dodgers\n",
      "\"Payroll (millions)\": 95.14\n",
      "\"Wins\": 86 \n",
      "\n",
      "Team: White Sox\n",
      "\"Payroll (millions)\": 96.92\n",
      "\"Wins\": 85 \n",
      "\n",
      "Team: Brewers\n",
      "\"Payroll (millions)\": 97.65\n",
      "\"Wins\": 83 \n",
      "\n",
      "Team: Phillies\n",
      "\"Payroll (millions)\": 174.54\n",
      "\"Wins\": 81 \n",
      "\n",
      "Team: Diamondbacks\n",
      "\"Payroll (millions)\": 74.28\n",
      "\"Wins\": 81 \n",
      "\n",
      "Team: Pirates\n",
      "\"Payroll (millions)\": 63.43\n",
      "\"Wins\": 79 \n",
      "\n",
      "Team: Padres\n",
      "\"Payroll (millions)\": 55.24\n",
      "\"Wins\": 76 \n",
      "\n",
      "Team: Mariners\n",
      "\"Payroll (millions)\": 81.97\n",
      "\"Wins\": 75 \n",
      "\n",
      "Team: Mets\n",
      "\"Payroll (millions)\": 93.35\n",
      "\"Wins\": 74 \n",
      "\n",
      "Team: Blue Jays\n",
      "\"Payroll (millions)\": 75.48\n",
      "\"Wins\": 73 \n",
      "\n",
      "Team: Royals\n",
      "\"Payroll (millions)\": 60.91\n",
      "\"Wins\": 72 \n",
      "\n",
      "Team: Marlins\n",
      "\"Payroll (millions)\": 118.07\n",
      "\"Wins\": 69 \n",
      "\n",
      "Team: Red Sox\n",
      "\"Payroll (millions)\": 173.18\n",
      "\"Wins\": 69 \n",
      "\n",
      "Team: Indians\n",
      "\"Payroll (millions)\": 78.43\n",
      "\"Wins\": 68 \n",
      "\n",
      "Team: Twins\n",
      "\"Payroll (millions)\": 94.08\n",
      "\"Wins\": 66 \n",
      "\n",
      "Team: Rockies\n",
      "\"Payroll (millions)\": 78.06\n",
      "\"Wins\": 64 \n",
      "\n",
      "Team: Cubs\n",
      "\"Payroll (millions)\": 88.19\n",
      "\"Wins\": 61 \n",
      "\n",
      "Team: Astros\n",
      "\"Payroll (millions)\": 60.65\n",
      "\"Wins\": 55 \n",
      "\n"
     ]
    }
   ],
   "source": [
    "pprint(data)\n",
    "for p in data:\n",
    "    print(p.page_content, '\\n')"
   ]
  },
  {
   "cell_type": "code",
   "execution_count": null,
   "id": "ce47b6d4-fa88-4563-935f-087e24725bab",
   "metadata": {},
   "outputs": [],
   "source": [
    "import pandas as pd\n",
    "\n",
    "# Load CSV\n",
    "df = pd.read_csv(\"mlb-teams-2012.csv\")  # or provide a URL\n",
    "\n",
    "# Access row 6 (Python is 0-indexed, so row 6 = index 5)\n",
    "team_name_row6 = df.loc[5, \"Team\"]\n",
    "\n",
    "print(team_name_row6)"
   ]
  },
  {
   "cell_type": "code",
   "execution_count": 19,
   "id": "c1aa58ae-5e98-4010-8f78-8c2391395af2",
   "metadata": {},
   "outputs": [
    {
     "name": "stdout",
     "output_type": "stream",
     "text": [
      "[Document(metadata={'source': 'mlb-teams-2012.csv', 'filename': 'mlb-teams-2012.csv', 'languages': ['eng'], 'last_modified': '2024-06-24T16:26:53', 'text_as_html': '<table border=\"1\" class=\"dataframe\">\\n  <tbody>\\n    <tr>\\n      <td>Team</td>\\n      <td>\"Payroll (millions)\"</td>\\n      <td>\"Wins\"</td>\\n    </tr>\\n    <tr>\\n      <td>Nationals</td>\\n      <td>81.34</td>\\n      <td>98</td>\\n    </tr>\\n    <tr>\\n      <td>Reds</td>\\n      <td>82.20</td>\\n      <td>97</td>\\n    </tr>\\n    <tr>\\n      <td>Yankees</td>\\n      <td>197.96</td>\\n      <td>95</td>\\n    </tr>\\n    <tr>\\n      <td>Giants</td>\\n      <td>117.62</td>\\n      <td>94</td>\\n    </tr>\\n    <tr>\\n      <td>Braves</td>\\n      <td>83.31</td>\\n      <td>94</td>\\n    </tr>\\n    <tr>\\n      <td>Athletics</td>\\n      <td>55.37</td>\\n      <td>94</td>\\n    </tr>\\n    <tr>\\n      <td>Rangers</td>\\n      <td>120.51</td>\\n      <td>93</td>\\n    </tr>\\n    <tr>\\n      <td>Orioles</td>\\n      <td>81.43</td>\\n      <td>93</td>\\n    </tr>\\n    <tr>\\n      <td>Rays</td>\\n      <td>64.17</td>\\n      <td>90</td>\\n    </tr>\\n    <tr>\\n      <td>Angels</td>\\n      <td>154.49</td>\\n      <td>89</td>\\n    </tr>\\n    <tr>\\n      <td>Tigers</td>\\n      <td>132.30</td>\\n      <td>88</td>\\n    </tr>\\n    <tr>\\n      <td>Cardinals</td>\\n      <td>110.30</td>\\n      <td>88</td>\\n    </tr>\\n    <tr>\\n      <td>Dodgers</td>\\n      <td>95.14</td>\\n      <td>86</td>\\n    </tr>\\n    <tr>\\n      <td>White Sox</td>\\n      <td>96.92</td>\\n      <td>85</td>\\n    </tr>\\n    <tr>\\n      <td>Brewers</td>\\n      <td>97.65</td>\\n      <td>83</td>\\n    </tr>\\n    <tr>\\n      <td>Phillies</td>\\n      <td>174.54</td>\\n      <td>81</td>\\n    </tr>\\n    <tr>\\n      <td>Diamondbacks</td>\\n      <td>74.28</td>\\n      <td>81</td>\\n    </tr>\\n    <tr>\\n      <td>Pirates</td>\\n      <td>63.43</td>\\n      <td>79</td>\\n    </tr>\\n    <tr>\\n      <td>Padres</td>\\n      <td>55.24</td>\\n      <td>76</td>\\n    </tr>\\n    <tr>\\n      <td>Mariners</td>\\n      <td>81.97</td>\\n      <td>75</td>\\n    </tr>\\n    <tr>\\n      <td>Mets</td>\\n      <td>93.35</td>\\n      <td>74</td>\\n    </tr>\\n    <tr>\\n      <td>Blue Jays</td>\\n      <td>75.48</td>\\n      <td>73</td>\\n    </tr>\\n    <tr>\\n      <td>Royals</td>\\n      <td>60.91</td>\\n      <td>72</td>\\n    </tr>\\n    <tr>\\n      <td>Marlins</td>\\n      <td>118.07</td>\\n      <td>69</td>\\n    </tr>\\n    <tr>\\n      <td>Red Sox</td>\\n      <td>173.18</td>\\n      <td>69</td>\\n    </tr>\\n    <tr>\\n      <td>Indians</td>\\n      <td>78.43</td>\\n      <td>68</td>\\n    </tr>\\n    <tr>\\n      <td>Twins</td>\\n      <td>94.08</td>\\n      <td>66</td>\\n    </tr>\\n    <tr>\\n      <td>Rockies</td>\\n      <td>78.06</td>\\n      <td>64</td>\\n    </tr>\\n    <tr>\\n      <td>Cubs</td>\\n      <td>88.19</td>\\n      <td>61</td>\\n    </tr>\\n    <tr>\\n      <td>Astros</td>\\n      <td>60.65</td>\\n      <td>55</td>\\n    </tr>\\n  </tbody>\\n</table>', 'filetype': 'text/csv', 'category': 'Table'}, page_content='\\n\\n\\nTeam\\n\"Payroll (millions)\"\\n\"Wins\"\\n\\n\\nNationals\\n81.34\\n98\\n\\n\\nReds\\n82.20\\n97\\n\\n\\nYankees\\n197.96\\n95\\n\\n\\nGiants\\n117.62\\n94\\n\\n\\nBraves\\n83.31\\n94\\n\\n\\nAthletics\\n55.37\\n94\\n\\n\\nRangers\\n120.51\\n93\\n\\n\\nOrioles\\n81.43\\n93\\n\\n\\nRays\\n64.17\\n90\\n\\n\\nAngels\\n154.49\\n89\\n\\n\\nTigers\\n132.30\\n88\\n\\n\\nCardinals\\n110.30\\n88\\n\\n\\nDodgers\\n95.14\\n86\\n\\n\\nWhite Sox\\n96.92\\n85\\n\\n\\nBrewers\\n97.65\\n83\\n\\n\\nPhillies\\n174.54\\n81\\n\\n\\nDiamondbacks\\n74.28\\n81\\n\\n\\nPirates\\n63.43\\n79\\n\\n\\nPadres\\n55.24\\n76\\n\\n\\nMariners\\n81.97\\n75\\n\\n\\nMets\\n93.35\\n74\\n\\n\\nBlue Jays\\n75.48\\n73\\n\\n\\nRoyals\\n60.91\\n72\\n\\n\\nMarlins\\n118.07\\n69\\n\\n\\nRed Sox\\n173.18\\n69\\n\\n\\nIndians\\n78.43\\n68\\n\\n\\nTwins\\n94.08\\n66\\n\\n\\nRockies\\n78.06\\n64\\n\\n\\nCubs\\n88.19\\n61\\n\\n\\nAstros\\n60.65\\n55\\n\\n\\n')]\n",
      "'hello'\n"
     ]
    }
   ],
   "source": [
    "loader = dl.UnstructuredCSVLoader( # when you dont want headers defining rows\n",
    "    file_path=\"mlb-teams-2012.csv\", mode=\"elements\"\n",
    ")\n",
    "data = loader.load()\n",
    "\n",
    "pprint(data)\n",
    "pprint(\"hello\")\n",
    "\n"
   ]
  },
  {
   "cell_type": "markdown",
   "id": "21d7831c-40d7-45c1-a395-32c6cc641f17",
   "metadata": {},
   "source": [
    "## Websites with beautiful soup\n",
    "\n"
   ]
  },
  {
   "cell_type": "code",
   "execution_count": 24,
   "id": "07ef0e83-f71f-43d6-8175-36cf59599221",
   "metadata": {},
   "outputs": [
    {
     "ename": "KeyboardInterrupt",
     "evalue": "",
     "output_type": "error",
     "traceback": [
      "\u001b[0;31m---------------------------------------------------------------------------\u001b[0m",
      "\u001b[0;31mKeyboardInterrupt\u001b[0m                         Traceback (most recent call last)",
      "Cell \u001b[0;32mIn[24], line 5\u001b[0m\n\u001b[1;32m      2\u001b[0m \u001b[38;5;28;01mfrom\u001b[39;00m\u001b[38;5;250m \u001b[39m\u001b[38;5;21;01mbs4\u001b[39;00m\u001b[38;5;250m \u001b[39m\u001b[38;5;28;01mimport\u001b[39;00m BeautifulSoup\n\u001b[1;32m      4\u001b[0m url \u001b[38;5;241m=\u001b[39m \u001b[38;5;124m'\u001b[39m\u001b[38;5;124mhttps://www.geeksforgeeks.org/techtips/what-is-a-text-file\u001b[39m\u001b[38;5;124m'\u001b[39m\n\u001b[0;32m----> 5\u001b[0m response \u001b[38;5;241m=\u001b[39m \u001b[43mrequests\u001b[49m\u001b[38;5;241;43m.\u001b[39;49m\u001b[43mget\u001b[49m\u001b[43m(\u001b[49m\u001b[43murl\u001b[49m\u001b[43m)\u001b[49m\n\u001b[1;32m      7\u001b[0m soup \u001b[38;5;241m=\u001b[39m BeautifulSoup(response\u001b[38;5;241m.\u001b[39mcontent, \u001b[38;5;124m'\u001b[39m\u001b[38;5;124mhtml.parser\u001b[39m\u001b[38;5;124m'\u001b[39m)\n\u001b[1;32m      8\u001b[0m \u001b[38;5;28mprint\u001b[39m(soup\u001b[38;5;241m.\u001b[39mprettify())\n",
      "File \u001b[0;32m/opt/conda/lib/python3.12/site-packages/requests/api.py:73\u001b[0m, in \u001b[0;36mget\u001b[0;34m(url, params, **kwargs)\u001b[0m\n\u001b[1;32m     62\u001b[0m \u001b[38;5;28;01mdef\u001b[39;00m\u001b[38;5;250m \u001b[39m\u001b[38;5;21mget\u001b[39m(url, params\u001b[38;5;241m=\u001b[39m\u001b[38;5;28;01mNone\u001b[39;00m, \u001b[38;5;241m*\u001b[39m\u001b[38;5;241m*\u001b[39mkwargs):\n\u001b[1;32m     63\u001b[0m \u001b[38;5;250m    \u001b[39m\u001b[38;5;124mr\u001b[39m\u001b[38;5;124;03m\"\"\"Sends a GET request.\u001b[39;00m\n\u001b[1;32m     64\u001b[0m \n\u001b[1;32m     65\u001b[0m \u001b[38;5;124;03m    :param url: URL for the new :class:`Request` object.\u001b[39;00m\n\u001b[0;32m   (...)\u001b[0m\n\u001b[1;32m     70\u001b[0m \u001b[38;5;124;03m    :rtype: requests.Response\u001b[39;00m\n\u001b[1;32m     71\u001b[0m \u001b[38;5;124;03m    \"\"\"\u001b[39;00m\n\u001b[0;32m---> 73\u001b[0m     \u001b[38;5;28;01mreturn\u001b[39;00m \u001b[43mrequest\u001b[49m\u001b[43m(\u001b[49m\u001b[38;5;124;43m\"\u001b[39;49m\u001b[38;5;124;43mget\u001b[39;49m\u001b[38;5;124;43m\"\u001b[39;49m\u001b[43m,\u001b[49m\u001b[43m \u001b[49m\u001b[43murl\u001b[49m\u001b[43m,\u001b[49m\u001b[43m \u001b[49m\u001b[43mparams\u001b[49m\u001b[38;5;241;43m=\u001b[39;49m\u001b[43mparams\u001b[49m\u001b[43m,\u001b[49m\u001b[43m \u001b[49m\u001b[38;5;241;43m*\u001b[39;49m\u001b[38;5;241;43m*\u001b[39;49m\u001b[43mkwargs\u001b[49m\u001b[43m)\u001b[49m\n",
      "File \u001b[0;32m/opt/conda/lib/python3.12/site-packages/requests/api.py:59\u001b[0m, in \u001b[0;36mrequest\u001b[0;34m(method, url, **kwargs)\u001b[0m\n\u001b[1;32m     55\u001b[0m \u001b[38;5;66;03m# By using the 'with' statement we are sure the session is closed, thus we\u001b[39;00m\n\u001b[1;32m     56\u001b[0m \u001b[38;5;66;03m# avoid leaving sockets open which can trigger a ResourceWarning in some\u001b[39;00m\n\u001b[1;32m     57\u001b[0m \u001b[38;5;66;03m# cases, and look like a memory leak in others.\u001b[39;00m\n\u001b[1;32m     58\u001b[0m \u001b[38;5;28;01mwith\u001b[39;00m sessions\u001b[38;5;241m.\u001b[39mSession() \u001b[38;5;28;01mas\u001b[39;00m session:\n\u001b[0;32m---> 59\u001b[0m     \u001b[38;5;28;01mreturn\u001b[39;00m \u001b[43msession\u001b[49m\u001b[38;5;241;43m.\u001b[39;49m\u001b[43mrequest\u001b[49m\u001b[43m(\u001b[49m\u001b[43mmethod\u001b[49m\u001b[38;5;241;43m=\u001b[39;49m\u001b[43mmethod\u001b[49m\u001b[43m,\u001b[49m\u001b[43m \u001b[49m\u001b[43murl\u001b[49m\u001b[38;5;241;43m=\u001b[39;49m\u001b[43murl\u001b[49m\u001b[43m,\u001b[49m\u001b[43m \u001b[49m\u001b[38;5;241;43m*\u001b[39;49m\u001b[38;5;241;43m*\u001b[39;49m\u001b[43mkwargs\u001b[49m\u001b[43m)\u001b[49m\n",
      "File \u001b[0;32m/opt/conda/lib/python3.12/site-packages/requests/sessions.py:589\u001b[0m, in \u001b[0;36mSession.request\u001b[0;34m(self, method, url, params, data, headers, cookies, files, auth, timeout, allow_redirects, proxies, hooks, stream, verify, cert, json)\u001b[0m\n\u001b[1;32m    584\u001b[0m send_kwargs \u001b[38;5;241m=\u001b[39m {\n\u001b[1;32m    585\u001b[0m     \u001b[38;5;124m\"\u001b[39m\u001b[38;5;124mtimeout\u001b[39m\u001b[38;5;124m\"\u001b[39m: timeout,\n\u001b[1;32m    586\u001b[0m     \u001b[38;5;124m\"\u001b[39m\u001b[38;5;124mallow_redirects\u001b[39m\u001b[38;5;124m\"\u001b[39m: allow_redirects,\n\u001b[1;32m    587\u001b[0m }\n\u001b[1;32m    588\u001b[0m send_kwargs\u001b[38;5;241m.\u001b[39mupdate(settings)\n\u001b[0;32m--> 589\u001b[0m resp \u001b[38;5;241m=\u001b[39m \u001b[38;5;28;43mself\u001b[39;49m\u001b[38;5;241;43m.\u001b[39;49m\u001b[43msend\u001b[49m\u001b[43m(\u001b[49m\u001b[43mprep\u001b[49m\u001b[43m,\u001b[49m\u001b[43m \u001b[49m\u001b[38;5;241;43m*\u001b[39;49m\u001b[38;5;241;43m*\u001b[39;49m\u001b[43msend_kwargs\u001b[49m\u001b[43m)\u001b[49m\n\u001b[1;32m    591\u001b[0m \u001b[38;5;28;01mreturn\u001b[39;00m resp\n",
      "File \u001b[0;32m/opt/conda/lib/python3.12/site-packages/requests/sessions.py:703\u001b[0m, in \u001b[0;36mSession.send\u001b[0;34m(self, request, **kwargs)\u001b[0m\n\u001b[1;32m    700\u001b[0m start \u001b[38;5;241m=\u001b[39m preferred_clock()\n\u001b[1;32m    702\u001b[0m \u001b[38;5;66;03m# Send the request\u001b[39;00m\n\u001b[0;32m--> 703\u001b[0m r \u001b[38;5;241m=\u001b[39m \u001b[43madapter\u001b[49m\u001b[38;5;241;43m.\u001b[39;49m\u001b[43msend\u001b[49m\u001b[43m(\u001b[49m\u001b[43mrequest\u001b[49m\u001b[43m,\u001b[49m\u001b[43m \u001b[49m\u001b[38;5;241;43m*\u001b[39;49m\u001b[38;5;241;43m*\u001b[39;49m\u001b[43mkwargs\u001b[49m\u001b[43m)\u001b[49m\n\u001b[1;32m    705\u001b[0m \u001b[38;5;66;03m# Total elapsed time of the request (approximately)\u001b[39;00m\n\u001b[1;32m    706\u001b[0m elapsed \u001b[38;5;241m=\u001b[39m preferred_clock() \u001b[38;5;241m-\u001b[39m start\n",
      "File \u001b[0;32m/opt/conda/lib/python3.12/site-packages/requests/adapters.py:667\u001b[0m, in \u001b[0;36mHTTPAdapter.send\u001b[0;34m(self, request, stream, timeout, verify, cert, proxies)\u001b[0m\n\u001b[1;32m    664\u001b[0m     timeout \u001b[38;5;241m=\u001b[39m TimeoutSauce(connect\u001b[38;5;241m=\u001b[39mtimeout, read\u001b[38;5;241m=\u001b[39mtimeout)\n\u001b[1;32m    666\u001b[0m \u001b[38;5;28;01mtry\u001b[39;00m:\n\u001b[0;32m--> 667\u001b[0m     resp \u001b[38;5;241m=\u001b[39m \u001b[43mconn\u001b[49m\u001b[38;5;241;43m.\u001b[39;49m\u001b[43murlopen\u001b[49m\u001b[43m(\u001b[49m\n\u001b[1;32m    668\u001b[0m \u001b[43m        \u001b[49m\u001b[43mmethod\u001b[49m\u001b[38;5;241;43m=\u001b[39;49m\u001b[43mrequest\u001b[49m\u001b[38;5;241;43m.\u001b[39;49m\u001b[43mmethod\u001b[49m\u001b[43m,\u001b[49m\n\u001b[1;32m    669\u001b[0m \u001b[43m        \u001b[49m\u001b[43murl\u001b[49m\u001b[38;5;241;43m=\u001b[39;49m\u001b[43murl\u001b[49m\u001b[43m,\u001b[49m\n\u001b[1;32m    670\u001b[0m \u001b[43m        \u001b[49m\u001b[43mbody\u001b[49m\u001b[38;5;241;43m=\u001b[39;49m\u001b[43mrequest\u001b[49m\u001b[38;5;241;43m.\u001b[39;49m\u001b[43mbody\u001b[49m\u001b[43m,\u001b[49m\n\u001b[1;32m    671\u001b[0m \u001b[43m        \u001b[49m\u001b[43mheaders\u001b[49m\u001b[38;5;241;43m=\u001b[39;49m\u001b[43mrequest\u001b[49m\u001b[38;5;241;43m.\u001b[39;49m\u001b[43mheaders\u001b[49m\u001b[43m,\u001b[49m\n\u001b[1;32m    672\u001b[0m \u001b[43m        \u001b[49m\u001b[43mredirect\u001b[49m\u001b[38;5;241;43m=\u001b[39;49m\u001b[38;5;28;43;01mFalse\u001b[39;49;00m\u001b[43m,\u001b[49m\n\u001b[1;32m    673\u001b[0m \u001b[43m        \u001b[49m\u001b[43massert_same_host\u001b[49m\u001b[38;5;241;43m=\u001b[39;49m\u001b[38;5;28;43;01mFalse\u001b[39;49;00m\u001b[43m,\u001b[49m\n\u001b[1;32m    674\u001b[0m \u001b[43m        \u001b[49m\u001b[43mpreload_content\u001b[49m\u001b[38;5;241;43m=\u001b[39;49m\u001b[38;5;28;43;01mFalse\u001b[39;49;00m\u001b[43m,\u001b[49m\n\u001b[1;32m    675\u001b[0m \u001b[43m        \u001b[49m\u001b[43mdecode_content\u001b[49m\u001b[38;5;241;43m=\u001b[39;49m\u001b[38;5;28;43;01mFalse\u001b[39;49;00m\u001b[43m,\u001b[49m\n\u001b[1;32m    676\u001b[0m \u001b[43m        \u001b[49m\u001b[43mretries\u001b[49m\u001b[38;5;241;43m=\u001b[39;49m\u001b[38;5;28;43mself\u001b[39;49m\u001b[38;5;241;43m.\u001b[39;49m\u001b[43mmax_retries\u001b[49m\u001b[43m,\u001b[49m\n\u001b[1;32m    677\u001b[0m \u001b[43m        \u001b[49m\u001b[43mtimeout\u001b[49m\u001b[38;5;241;43m=\u001b[39;49m\u001b[43mtimeout\u001b[49m\u001b[43m,\u001b[49m\n\u001b[1;32m    678\u001b[0m \u001b[43m        \u001b[49m\u001b[43mchunked\u001b[49m\u001b[38;5;241;43m=\u001b[39;49m\u001b[43mchunked\u001b[49m\u001b[43m,\u001b[49m\n\u001b[1;32m    679\u001b[0m \u001b[43m    \u001b[49m\u001b[43m)\u001b[49m\n\u001b[1;32m    681\u001b[0m \u001b[38;5;28;01mexcept\u001b[39;00m (ProtocolError, \u001b[38;5;167;01mOSError\u001b[39;00m) \u001b[38;5;28;01mas\u001b[39;00m err:\n\u001b[1;32m    682\u001b[0m     \u001b[38;5;28;01mraise\u001b[39;00m \u001b[38;5;167;01mConnectionError\u001b[39;00m(err, request\u001b[38;5;241m=\u001b[39mrequest)\n",
      "File \u001b[0;32m/opt/conda/lib/python3.12/site-packages/urllib3/connectionpool.py:787\u001b[0m, in \u001b[0;36mHTTPConnectionPool.urlopen\u001b[0;34m(self, method, url, body, headers, retries, redirect, assert_same_host, timeout, pool_timeout, release_conn, chunked, body_pos, preload_content, decode_content, **response_kw)\u001b[0m\n\u001b[1;32m    784\u001b[0m response_conn \u001b[38;5;241m=\u001b[39m conn \u001b[38;5;28;01mif\u001b[39;00m \u001b[38;5;129;01mnot\u001b[39;00m release_conn \u001b[38;5;28;01melse\u001b[39;00m \u001b[38;5;28;01mNone\u001b[39;00m\n\u001b[1;32m    786\u001b[0m \u001b[38;5;66;03m# Make the request on the HTTPConnection object\u001b[39;00m\n\u001b[0;32m--> 787\u001b[0m response \u001b[38;5;241m=\u001b[39m \u001b[38;5;28;43mself\u001b[39;49m\u001b[38;5;241;43m.\u001b[39;49m\u001b[43m_make_request\u001b[49m\u001b[43m(\u001b[49m\n\u001b[1;32m    788\u001b[0m \u001b[43m    \u001b[49m\u001b[43mconn\u001b[49m\u001b[43m,\u001b[49m\n\u001b[1;32m    789\u001b[0m \u001b[43m    \u001b[49m\u001b[43mmethod\u001b[49m\u001b[43m,\u001b[49m\n\u001b[1;32m    790\u001b[0m \u001b[43m    \u001b[49m\u001b[43murl\u001b[49m\u001b[43m,\u001b[49m\n\u001b[1;32m    791\u001b[0m \u001b[43m    \u001b[49m\u001b[43mtimeout\u001b[49m\u001b[38;5;241;43m=\u001b[39;49m\u001b[43mtimeout_obj\u001b[49m\u001b[43m,\u001b[49m\n\u001b[1;32m    792\u001b[0m \u001b[43m    \u001b[49m\u001b[43mbody\u001b[49m\u001b[38;5;241;43m=\u001b[39;49m\u001b[43mbody\u001b[49m\u001b[43m,\u001b[49m\n\u001b[1;32m    793\u001b[0m \u001b[43m    \u001b[49m\u001b[43mheaders\u001b[49m\u001b[38;5;241;43m=\u001b[39;49m\u001b[43mheaders\u001b[49m\u001b[43m,\u001b[49m\n\u001b[1;32m    794\u001b[0m \u001b[43m    \u001b[49m\u001b[43mchunked\u001b[49m\u001b[38;5;241;43m=\u001b[39;49m\u001b[43mchunked\u001b[49m\u001b[43m,\u001b[49m\n\u001b[1;32m    795\u001b[0m \u001b[43m    \u001b[49m\u001b[43mretries\u001b[49m\u001b[38;5;241;43m=\u001b[39;49m\u001b[43mretries\u001b[49m\u001b[43m,\u001b[49m\n\u001b[1;32m    796\u001b[0m \u001b[43m    \u001b[49m\u001b[43mresponse_conn\u001b[49m\u001b[38;5;241;43m=\u001b[39;49m\u001b[43mresponse_conn\u001b[49m\u001b[43m,\u001b[49m\n\u001b[1;32m    797\u001b[0m \u001b[43m    \u001b[49m\u001b[43mpreload_content\u001b[49m\u001b[38;5;241;43m=\u001b[39;49m\u001b[43mpreload_content\u001b[49m\u001b[43m,\u001b[49m\n\u001b[1;32m    798\u001b[0m \u001b[43m    \u001b[49m\u001b[43mdecode_content\u001b[49m\u001b[38;5;241;43m=\u001b[39;49m\u001b[43mdecode_content\u001b[49m\u001b[43m,\u001b[49m\n\u001b[1;32m    799\u001b[0m \u001b[43m    \u001b[49m\u001b[38;5;241;43m*\u001b[39;49m\u001b[38;5;241;43m*\u001b[39;49m\u001b[43mresponse_kw\u001b[49m\u001b[43m,\u001b[49m\n\u001b[1;32m    800\u001b[0m \u001b[43m\u001b[49m\u001b[43m)\u001b[49m\n\u001b[1;32m    802\u001b[0m \u001b[38;5;66;03m# Everything went great!\u001b[39;00m\n\u001b[1;32m    803\u001b[0m clean_exit \u001b[38;5;241m=\u001b[39m \u001b[38;5;28;01mTrue\u001b[39;00m\n",
      "File \u001b[0;32m/opt/conda/lib/python3.12/site-packages/urllib3/connectionpool.py:464\u001b[0m, in \u001b[0;36mHTTPConnectionPool._make_request\u001b[0;34m(self, conn, method, url, body, headers, retries, timeout, chunked, response_conn, preload_content, decode_content, enforce_content_length)\u001b[0m\n\u001b[1;32m    461\u001b[0m \u001b[38;5;28;01mtry\u001b[39;00m:\n\u001b[1;32m    462\u001b[0m     \u001b[38;5;66;03m# Trigger any extra validation we need to do.\u001b[39;00m\n\u001b[1;32m    463\u001b[0m     \u001b[38;5;28;01mtry\u001b[39;00m:\n\u001b[0;32m--> 464\u001b[0m         \u001b[38;5;28;43mself\u001b[39;49m\u001b[38;5;241;43m.\u001b[39;49m\u001b[43m_validate_conn\u001b[49m\u001b[43m(\u001b[49m\u001b[43mconn\u001b[49m\u001b[43m)\u001b[49m\n\u001b[1;32m    465\u001b[0m     \u001b[38;5;28;01mexcept\u001b[39;00m (SocketTimeout, BaseSSLError) \u001b[38;5;28;01mas\u001b[39;00m e:\n\u001b[1;32m    466\u001b[0m         \u001b[38;5;28mself\u001b[39m\u001b[38;5;241m.\u001b[39m_raise_timeout(err\u001b[38;5;241m=\u001b[39me, url\u001b[38;5;241m=\u001b[39murl, timeout_value\u001b[38;5;241m=\u001b[39mconn\u001b[38;5;241m.\u001b[39mtimeout)\n",
      "File \u001b[0;32m/opt/conda/lib/python3.12/site-packages/urllib3/connectionpool.py:1093\u001b[0m, in \u001b[0;36mHTTPSConnectionPool._validate_conn\u001b[0;34m(self, conn)\u001b[0m\n\u001b[1;32m   1091\u001b[0m \u001b[38;5;66;03m# Force connect early to allow us to validate the connection.\u001b[39;00m\n\u001b[1;32m   1092\u001b[0m \u001b[38;5;28;01mif\u001b[39;00m conn\u001b[38;5;241m.\u001b[39mis_closed:\n\u001b[0;32m-> 1093\u001b[0m     \u001b[43mconn\u001b[49m\u001b[38;5;241;43m.\u001b[39;49m\u001b[43mconnect\u001b[49m\u001b[43m(\u001b[49m\u001b[43m)\u001b[49m\n\u001b[1;32m   1095\u001b[0m \u001b[38;5;66;03m# TODO revise this, see https://github.com/urllib3/urllib3/issues/2791\u001b[39;00m\n\u001b[1;32m   1096\u001b[0m \u001b[38;5;28;01mif\u001b[39;00m \u001b[38;5;129;01mnot\u001b[39;00m conn\u001b[38;5;241m.\u001b[39mis_verified \u001b[38;5;129;01mand\u001b[39;00m \u001b[38;5;129;01mnot\u001b[39;00m conn\u001b[38;5;241m.\u001b[39mproxy_is_verified:\n",
      "File \u001b[0;32m/opt/conda/lib/python3.12/site-packages/urllib3/connection.py:704\u001b[0m, in \u001b[0;36mHTTPSConnection.connect\u001b[0;34m(self)\u001b[0m\n\u001b[1;32m    702\u001b[0m \u001b[38;5;28;01mtry\u001b[39;00m:\n\u001b[1;32m    703\u001b[0m     sock: socket\u001b[38;5;241m.\u001b[39msocket \u001b[38;5;241m|\u001b[39m ssl\u001b[38;5;241m.\u001b[39mSSLSocket\n\u001b[0;32m--> 704\u001b[0m     \u001b[38;5;28mself\u001b[39m\u001b[38;5;241m.\u001b[39msock \u001b[38;5;241m=\u001b[39m sock \u001b[38;5;241m=\u001b[39m \u001b[38;5;28;43mself\u001b[39;49m\u001b[38;5;241;43m.\u001b[39;49m\u001b[43m_new_conn\u001b[49m\u001b[43m(\u001b[49m\u001b[43m)\u001b[49m\n\u001b[1;32m    705\u001b[0m     server_hostname: \u001b[38;5;28mstr\u001b[39m \u001b[38;5;241m=\u001b[39m \u001b[38;5;28mself\u001b[39m\u001b[38;5;241m.\u001b[39mhost\n\u001b[1;32m    706\u001b[0m     tls_in_tls \u001b[38;5;241m=\u001b[39m \u001b[38;5;28;01mFalse\u001b[39;00m\n",
      "File \u001b[0;32m/opt/conda/lib/python3.12/site-packages/urllib3/connection.py:198\u001b[0m, in \u001b[0;36mHTTPConnection._new_conn\u001b[0;34m(self)\u001b[0m\n\u001b[1;32m    193\u001b[0m \u001b[38;5;250m\u001b[39m\u001b[38;5;124;03m\"\"\"Establish a socket connection and set nodelay settings on it.\u001b[39;00m\n\u001b[1;32m    194\u001b[0m \n\u001b[1;32m    195\u001b[0m \u001b[38;5;124;03m:return: New socket connection.\u001b[39;00m\n\u001b[1;32m    196\u001b[0m \u001b[38;5;124;03m\"\"\"\u001b[39;00m\n\u001b[1;32m    197\u001b[0m \u001b[38;5;28;01mtry\u001b[39;00m:\n\u001b[0;32m--> 198\u001b[0m     sock \u001b[38;5;241m=\u001b[39m \u001b[43mconnection\u001b[49m\u001b[38;5;241;43m.\u001b[39;49m\u001b[43mcreate_connection\u001b[49m\u001b[43m(\u001b[49m\n\u001b[1;32m    199\u001b[0m \u001b[43m        \u001b[49m\u001b[43m(\u001b[49m\u001b[38;5;28;43mself\u001b[39;49m\u001b[38;5;241;43m.\u001b[39;49m\u001b[43m_dns_host\u001b[49m\u001b[43m,\u001b[49m\u001b[43m \u001b[49m\u001b[38;5;28;43mself\u001b[39;49m\u001b[38;5;241;43m.\u001b[39;49m\u001b[43mport\u001b[49m\u001b[43m)\u001b[49m\u001b[43m,\u001b[49m\n\u001b[1;32m    200\u001b[0m \u001b[43m        \u001b[49m\u001b[38;5;28;43mself\u001b[39;49m\u001b[38;5;241;43m.\u001b[39;49m\u001b[43mtimeout\u001b[49m\u001b[43m,\u001b[49m\n\u001b[1;32m    201\u001b[0m \u001b[43m        \u001b[49m\u001b[43msource_address\u001b[49m\u001b[38;5;241;43m=\u001b[39;49m\u001b[38;5;28;43mself\u001b[39;49m\u001b[38;5;241;43m.\u001b[39;49m\u001b[43msource_address\u001b[49m\u001b[43m,\u001b[49m\n\u001b[1;32m    202\u001b[0m \u001b[43m        \u001b[49m\u001b[43msocket_options\u001b[49m\u001b[38;5;241;43m=\u001b[39;49m\u001b[38;5;28;43mself\u001b[39;49m\u001b[38;5;241;43m.\u001b[39;49m\u001b[43msocket_options\u001b[49m\u001b[43m,\u001b[49m\n\u001b[1;32m    203\u001b[0m \u001b[43m    \u001b[49m\u001b[43m)\u001b[49m\n\u001b[1;32m    204\u001b[0m \u001b[38;5;28;01mexcept\u001b[39;00m socket\u001b[38;5;241m.\u001b[39mgaierror \u001b[38;5;28;01mas\u001b[39;00m e:\n\u001b[1;32m    205\u001b[0m     \u001b[38;5;28;01mraise\u001b[39;00m NameResolutionError(\u001b[38;5;28mself\u001b[39m\u001b[38;5;241m.\u001b[39mhost, \u001b[38;5;28mself\u001b[39m, e) \u001b[38;5;28;01mfrom\u001b[39;00m\u001b[38;5;250m \u001b[39m\u001b[38;5;21;01me\u001b[39;00m\n",
      "File \u001b[0;32m/opt/conda/lib/python3.12/site-packages/urllib3/util/connection.py:73\u001b[0m, in \u001b[0;36mcreate_connection\u001b[0;34m(address, timeout, source_address, socket_options)\u001b[0m\n\u001b[1;32m     71\u001b[0m \u001b[38;5;28;01mif\u001b[39;00m source_address:\n\u001b[1;32m     72\u001b[0m     sock\u001b[38;5;241m.\u001b[39mbind(source_address)\n\u001b[0;32m---> 73\u001b[0m \u001b[43msock\u001b[49m\u001b[38;5;241;43m.\u001b[39;49m\u001b[43mconnect\u001b[49m\u001b[43m(\u001b[49m\u001b[43msa\u001b[49m\u001b[43m)\u001b[49m\n\u001b[1;32m     74\u001b[0m \u001b[38;5;66;03m# Break explicitly a reference cycle\u001b[39;00m\n\u001b[1;32m     75\u001b[0m err \u001b[38;5;241m=\u001b[39m \u001b[38;5;28;01mNone\u001b[39;00m\n",
      "\u001b[0;31mKeyboardInterrupt\u001b[0m: "
     ]
    }
   ],
   "source": [
    "import requests\n",
    "from bs4 import BeautifulSoup\n",
    "\n",
    "#requests get hanged from public websites as outbound network requests are blocked for security reasons\n",
    "url = 'https://www.geeksforgeeks.org/techtips/what-is-a-text-file'\n",
    "response = requests.get(url)\n",
    "\n",
    "soup = BeautifulSoup(response.content, 'html.parser')\n",
    "print(soup.prettify())"
   ]
  },
  {
   "cell_type": "code",
   "execution_count": 25,
   "id": "d8ba8a72-f0f9-4198-bb66-dc2749f35e43",
   "metadata": {},
   "outputs": [
    {
     "name": "stdout",
     "output_type": "stream",
     "text": [
      "<!DOCTYPE HTML>\n",
      "<html lang=\"en\">\n",
      " <head>\n",
      "  <meta charset=\"utf-8\"/>\n",
      "  <meta content=\"en\" name=\"languageCode\"/>\n",
      "  <meta content=\"us\" name=\"countryCode\"/>\n",
      "  <meta content=\"What Is LangChain?\" name=\"searchTitle\"/>\n",
      "  <meta content=\"Data Platform SDRs\" name=\"focusArea\"/>\n",
      "  <meta content=\"think\" name=\"siteSection\"/>\n",
      "  <title>\n",
      "   What Is LangChain? | IBM\n",
      "  </title>\n",
      "  <script data-routing=\"program=131558,environment=1281329,tier=publish\" defer=\"defer\" src=\"https://rum.hlx.page/.rum/@adobe/helix-rum-js@%5E2/dist/rum-standalone.js\" type=\"text/javascript\">\n",
      "  </script>\n",
      "  <link href=\"/content/dam/adobe-cms/default-images/icon-16x16.png\" rel=\"icon\" sizes=\"16x16\"/>\n",
      "  <link href=\"/content/dam/adobe-cms/default-images/icon-32x32.png\" rel=\"icon\" sizes=\"32x32\"/>\n",
      "  <link href=\"/content/dam/adobe-cms/default-images/icon-150x150.png\" rel=\"icon\" sizes=\"150x150\"/>\n",
      "  <link href=\"/content/dam/adobe-cms/default-images/icon-192x192.png\" rel=\"icon\" sizes=\"192x192\"/>\n",
      "  <link href=\"/content/dam/adobe-cms/default-imag\n",
      "200\n",
      "287911\n"
     ]
    }
   ],
   "source": [
    "import requests\n",
    "from bs4 import BeautifulSoup\n",
    "\n",
    "# too many unneccessary tags\n",
    "response=requests.get('https://www.ibm.com/topics/langchain')\n",
    "\n",
    "content =BeautifulSoup(response.content, 'html.parser')\n",
    "\n",
    "print(content.prettify()[:1000])\n",
    "\n",
    "\n",
    "print(response.status_code)\n",
    "print(len(response.content))"
   ]
  },
  {
   "cell_type": "code",
   "execution_count": 33,
   "id": "79ac0063-fb73-4a9b-887e-13759eead7c4",
   "metadata": {},
   "outputs": [
    {
     "name": "stdout",
     "output_type": "stream",
     "text": [
      "Abstractions are a common element of everyday life and language. For example, “π” allows us to represent the ratio of the length of a circle’s circumference to that of its diameter without having to write out its infinite digits. Similarly, a thermostat allows us to control the temperature in our home without needing to understand the complex circuitry this entails—we only need to know how different thermostat settings translate to different temperatures.\n",
      "LangChain is essentially a library of abstractions for Python and Javascript, representing common steps and concepts necessary to work with language models. These modular components—like functions and object classes—serve as the building blocks of generative AI programs. They can be “chained” together to create applications, minimizing the amount of code and fine understanding required to execute complex NLP tasks. Though LangChain’s abstracted approach may limit the extent to which an expert programmer can finely customize an applica\n"
     ]
    }
   ],
   "source": [
    "#webbaseloader to avoid html tags\n",
    "data = (dl.WebBaseLoader(\"https://www.ibm.com/topics/langchain\")).load_and_split()\n",
    "print(data[2].page_content[:1000])\n"
   ]
  },
  {
   "cell_type": "markdown",
   "id": "b3d25397-9934-4675-8825-75ce8ed30d7c",
   "metadata": {},
   "source": [
    "## Other PDF Loaders"
   ]
  },
  {
   "cell_type": "code",
   "execution_count": 50,
   "id": "2b03cb4d-2ecc-4901-bb81-a8bca59aad94",
   "metadata": {},
   "outputs": [
    {
     "name": "stdout",
     "output_type": "stream",
     "text": [
      "Requirement already satisfied: pypdfium2==4.30.0 in /home/jupyterlab/.local/lib/python3.12/site-packages (4.30.0)\n",
      "Requirement already satisfied: arxiv in /home/jupyterlab/.local/lib/python3.12/site-packages (2.2.0)\n",
      "Requirement already satisfied: feedparser~=6.0.10 in /home/jupyterlab/.local/lib/python3.12/site-packages (from arxiv) (6.0.12)\n",
      "Requirement already satisfied: requests~=2.32.0 in /opt/conda/lib/python3.12/site-packages (from arxiv) (2.32.3)\n",
      "Requirement already satisfied: sgmllib3k in /home/jupyterlab/.local/lib/python3.12/site-packages (from feedparser~=6.0.10->arxiv) (1.0.0)\n",
      "Requirement already satisfied: charset_normalizer<4,>=2 in /opt/conda/lib/python3.12/site-packages (from requests~=2.32.0->arxiv) (3.4.1)\n",
      "Requirement already satisfied: idna<4,>=2.5 in /opt/conda/lib/python3.12/site-packages (from requests~=2.32.0->arxiv) (3.10)\n",
      "Requirement already satisfied: urllib3<3,>=1.21.1 in /opt/conda/lib/python3.12/site-packages (from requests~=2.32.0->arxiv) (2.3.0)\n",
      "Requirement already satisfied: certifi>=2017.4.17 in /opt/conda/lib/python3.12/site-packages (from requests~=2.32.0->arxiv) (2024.12.14)\n",
      "{'Published': '2022-08-01', 'Title': 'The Rise of Quantum Internet Computing', 'Authors': 'Seng W. Loke', 'Summary': 'This article highlights quantum Internet computing as referring to\\ndistributed quantum computing over the quantum Internet, analogous to\\n(classical) Internet computing involving (classical) distributed computing over\\nthe (classical) Internet. Relevant to quantum Internet computing would be areas\\nof study such as quantum protocols for distributed nodes using quantum\\ninformation for computations, quantum cloud computing, delegated verifiable\\nblind or private computing, non-local gates, and distributed quantum\\napplications, over Internet-scale distances.'}\n",
      "arXiv:2208.00733v1  [cs.ET]  1 Aug 2022\n",
      "IEEE IOT MAGAZINE, VOL. XX, NO. X, X 2022\n",
      "1\n",
      "The Rise of Quantum Internet Computing\n",
      "Seng W. Loke, Member, IEEE\n",
      "Abstract—This article highlights quantum Internet computing as referring to distributed quantum computing over the quantum Internet,\n",
      "analogous to (classical) Internet computing involving (classical) distributed computing over the (classical) Internet. Relevant to\n",
      "quantum Internet computing would be areas of study such as quantum protocols for distr\n"
     ]
    }
   ],
   "source": [
    "!pip install --user \"pypdfium2==4.30.0\"\n",
    "#more faster and memory efficient on large pdfs\n",
    "pdf_url = \"https://cf-courses-data.s3.us.cloud-object-storage.appdomain.cloud/Q81D33CdRLK6LswuQrANQQ/instructlab.pdf\"\n",
    "\n",
    "pages = (dl.PyPDFium2Loader(pdf_url)).load()\n",
    "pages[1]\n",
    "\n"
   ]
  },
  {
   "cell_type": "code",
   "execution_count": null,
   "id": "f32b774a-693b-420f-8ba1-c720de5c47d8",
   "metadata": {},
   "outputs": [],
   "source": []
  },
  {
   "cell_type": "code",
   "execution_count": 60,
   "id": "cc0a73b7-39e1-4900-a260-1cf5a75ec3aa",
   "metadata": {},
   "outputs": [
    {
     "name": "stdout",
     "output_type": "stream",
     "text": [
      "Requirement already satisfied: arxiv in /home/jupyterlab/.local/lib/python3.12/site-packages (2.2.0)\n",
      "Requirement already satisfied: feedparser~=6.0.10 in /home/jupyterlab/.local/lib/python3.12/site-packages (from arxiv) (6.0.12)\n",
      "Requirement already satisfied: requests~=2.32.0 in /opt/conda/lib/python3.12/site-packages (from arxiv) (2.32.3)\n",
      "Requirement already satisfied: sgmllib3k in /home/jupyterlab/.local/lib/python3.12/site-packages (from feedparser~=6.0.10->arxiv) (1.0.0)\n",
      "Requirement already satisfied: charset_normalizer<4,>=2 in /opt/conda/lib/python3.12/site-packages (from requests~=2.32.0->arxiv) (3.4.1)\n",
      "Requirement already satisfied: idna<4,>=2.5 in /opt/conda/lib/python3.12/site-packages (from requests~=2.32.0->arxiv) (3.10)\n",
      "Requirement already satisfied: urllib3<3,>=1.21.1 in /opt/conda/lib/python3.12/site-packages (from requests~=2.32.0->arxiv) (2.3.0)\n",
      "Requirement already satisfied: certifi>=2017.4.17 in /opt/conda/lib/python3.12/site-packages (from requests~=2.32.0->arxiv) (2024.12.14)\n",
      "{'Published': '2025-07-23', 'Title': 'Understanding Computational Science and Engineering (CSE) and Domain Science Skills Development in National Laboratory Postgraduate Internships', 'Authors': 'Morgan M. Fong, Hilary Egan, Marc Day, Kristin Potter, Michael J. Martin', 'Summary': \"Background: Harnessing advanced computing for scientific discovery and\\ntechnological innovation demands scientists and engineers well-versed in both\\ndomain science and computational science and engineering (CSE). However, few\\nuniversities provide access to both integrated domain science/CSE\\ncross-training and Top-500 High-Performance Computing (HPC) facilities.\\nNational laboratories offer internship opportunities capable of developing\\nthese skills. Purpose: This student presents an evaluation of federally-funded\\npostgraduate internship outcomes at a national laboratory. This study seeks to\\nanswer three questions: 1) What computational skills, research skills, and\\nprofessional skills do students improve through internships at the selected\\nnational laboratory. 2) Do students gain knowledge in domain science topics\\nthrough their internships. 3) Do students' career interests change after these\\ninternships? Design/Method: We developed a survey and collected responses from\\npast participants of five federally-funded internship programs and compare\\nparticipant ratings of their prior experience to their internship experience.\\nFindings: Our results indicate that participants improve CSE skills and domain\\nscience knowledge, and are more interested in working at national labs.\\nParticipants go on to degree programs and positions in relevant domain science\\ntopics after their internships. Conclusions: We show that national laboratory\\ninternships are an opportunity for students to build CSE skills that may not be\\navailable at all institutions. We also show a growth in domain science skills\\nduring their internships through direct exposure to research topics. The survey\\ninstrument and approach used may be adapted to other studies to measure the\\nimpact of postgraduate internships in multiple disciplines and internship\\nsettings.\"}\n",
      "Open-Source Internships With Industry Mentors\n",
      "Tyler Menezes\n",
      "tylermenezes@codeday.org\n",
      "CodeDay\n",
      "Seattle, Washington, USA\n",
      "Alexander Parra\n",
      "alexparra@codeday.org\n",
      "CodeDay\n",
      "Seattle, Washington, USA\n",
      "Mingjie Jiang\n",
      "mingjie@codeday.org\n",
      "CodeDay\n",
      "Seattle, Washington, USA\n",
      "ABSTRACT\n",
      "Internships help students connect what they have learned in the\n",
      "classroom to the real world, and students with access to internships\n",
      "are more likely to graduate and secure employment. However, many\n",
      "students are unable to find an intern\n",
      "\n",
      "\n",
      "Title 1: Adversarial attacks on hybrid classical-quantum Deep Learning models for Histopathological Cancer Detection\n",
      "Adversarial attacks on hybrid classical-quantum\n",
      "Deep Learning models for Histopathological Cancer\n",
      "Detection\n",
      "Biswaraj Baral\n",
      "Quantum Computing Group\n",
      "Qausal AI\n",
      "San Ramon, CA, USA\n",
      "biswa@qausal.ai\n",
      "Reek Maj \n",
      "\n",
      "Title 2: Investigating Quantum Feature Maps in Quantum Support Vector Machines for Lung Cancer Classification\n",
      "arXiv:2506.03272v1  [quant-ph]  3 Jun 2025\n",
      "Investigating Quantum Feature Maps in Quantum Support\n",
      "Vector Machines for Lung Cancer Classification\n",
      "A. Toufah1, M. A. Kadim1, and My Y. El Hafidi∗1\n",
      "1Quantum \n",
      "\n",
      "Title 3: Blocking of DNA specific recognition sites by hydrogen peroxide molecules in the process of ion beam therapy of cancer cells\n",
      "arXiv:1811.11026v1  [physics.bio-ph]  27 Nov 2018\n",
      "Blocking of DNA speciﬁc recognition sites by hydrogen\n",
      "peroxide molecules in the process of ion beam therapy of\n",
      "cancer cells\n",
      "Oleksii Zdorevskyi, Dmytro \n",
      "\n"
     ]
    }
   ],
   "source": [
    "\n",
    "\n",
    "!pip install --user arxiv\n",
    "#arxiv is a Python client for the arXiv API, which is a database of scientific preprints (physics, CS, math, etc.)\n",
    "loader = dl.ArxivLoader(query=\"internships\", load_max_docs=2)\n",
    "docs = loader.load()\n",
    "\n",
    "print(docs[0].metadata)\n",
    "print(docs[1].page_content[:500])\n",
    "\n",
    "print('\\n')\n",
    "loader = dl.ArxivLoader(query=\"quantum AND cancer\", load_max_docs=3)\n",
    "docs = loader.load()\n",
    "\n",
    "for i, document in enumerate(docs):\n",
    "    print(f\"Title {i+1}:\", document.metadata[\"Title\"])\n",
    "    print(document.page_content[:200], \"\\n\")\n"
   ]
  },
  {
   "cell_type": "code",
   "execution_count": 61,
   "id": "82d26873-5d0f-4c18-a70f-9a1769802540",
   "metadata": {},
   "outputs": [
    {
     "name": "stdout",
     "output_type": "stream",
     "text": [
      "git version 2.43.0\n"
     ]
    }
   ],
   "source": [
    "!git --version\n"
   ]
  },
  {
   "cell_type": "code",
   "execution_count": 63,
   "id": "6b7c42d9-97f6-4677-8ea9-0e4bd83e45f4",
   "metadata": {},
   "outputs": [
    {
     "name": "stdout",
     "output_type": "stream",
     "text": [
      "Cloning into 'Generative-AI-Project-Rag-and-Langchain'...\n",
      "remote: Enumerating objects: 3, done.\u001b[K\n",
      "remote: Counting objects: 100% (3/3), done.\u001b[K\n",
      "remote: Total 3 (delta 0), reused 0 (delta 0), pack-reused 0 (from 0)\u001b[K\n",
      "Receiving objects: 100% (3/3), done.\n"
     ]
    }
   ],
   "source": [
    "!git clone https://github.com/krishabasrur123/Generative-AI-Project-Rag-and-Langchain"
   ]
  },
  {
   "cell_type": "code",
   "execution_count": 64,
   "id": "4684d57b-f4e0-45f8-a30f-cff7fa1afd8f",
   "metadata": {},
   "outputs": [
    {
     "name": "stdout",
     "output_type": "stream",
     "text": [
      " Generative-AI-Project-Rag-and-Langchain   markdown-sample.md.4\n",
      "'LangChain document loader.ipynb'\t   mlb-teams-2012.csv\n",
      " Untitled.ipynb\t\t\t\t   mlb-teams-2012.csv.1\n",
      " alice.txt\t\t\t\t   mlb-teams-2012.csv.2\n",
      " facebook-chat.json\t\t\t   mlb-teams-2012.csv.3\n",
      " facebook-chat.json.1\t\t\t   mlb-teams-2012.csv.4\n",
      " facebook-chat.json.2\t\t\t   new-Policies.txt\n",
      " facebook-chat.json.3\t\t\t   new-Policies.txt.1\n",
      " facebook-chat.json.4\t\t\t   new-Policies.txt.2\n",
      " file-sample.docx\t\t\t   new-Policies.txt.3\n",
      " markdown-sample.md\t\t\t   new-Policies.txt.4\n",
      " markdown-sample.md.1\t\t\t   new-Policies.txt.5\n",
      " markdown-sample.md.2\t\t\t   new-Policies.txt.6\n",
      " markdown-sample.md.3\n"
     ]
    }
   ],
   "source": [
    "!ls"
   ]
  },
  {
   "cell_type": "code",
   "execution_count": null,
   "id": "4e09aefa-f76d-4db1-b76a-e408a991005c",
   "metadata": {},
   "outputs": [],
   "source": []
  }
 ],
 "metadata": {
  "kernelspec": {
   "display_name": "Python 3 (ipykernel)",
   "language": "python",
   "name": "python3"
  },
  "language_info": {
   "codemirror_mode": {
    "name": "ipython",
    "version": 3
   },
   "file_extension": ".py",
   "mimetype": "text/x-python",
   "name": "python",
   "nbconvert_exporter": "python",
   "pygments_lexer": "ipython3",
   "version": "3.12.8"
  }
 },
 "nbformat": 4,
 "nbformat_minor": 5
}
